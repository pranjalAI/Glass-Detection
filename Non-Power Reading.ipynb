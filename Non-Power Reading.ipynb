{
 "cells": [
  {
   "cell_type": "code",
   "execution_count": 2,
   "metadata": {},
   "outputs": [],
   "source": [
    "import os, random, shutil\n",
    "import numpy as np\n",
    "import pandas as pd\n",
    "import PIL\n",
    "#import keras\n",
    "import itertools\n",
    "from PIL import Image\n",
    "\n",
    "import tensorflow as tf\n",
    "\n",
    "from sklearn.utils import shuffle\n",
    "from sklearn.model_selection import train_test_split\n",
    "from sklearn import preprocessing\n",
    "#from skimage import feature, data, io, measure\n",
    "from sklearn.metrics import confusion_matrix\n",
    "\n",
    "import matplotlib.pyplot as plt\n",
    "from matplotlib import ticker\n",
    "import seaborn as sns\n",
    "%matplotlib inline \n",
    "from tqdm import tqdm\n",
    "import cv2\n",
    "from tensorflow.keras import backend as K\n",
    "from tensorflow.keras.models import Model\n",
    "from tensorflow.keras.models import Sequential\n",
    "from tensorflow.keras.layers import Input, Dropout, Flatten, Conv2D, MaxPooling2D, Dense, Activation\n",
    "from tensorflow.keras.optimizers import RMSprop, Adam\n",
    "from tensorflow.keras.layers import BatchNormalization\n",
    "#from keras.callbacks import ModelCheckpoint, Callback, EarlyStopping\n",
    "from keras.utils import np_utils\n",
    "from tensorflow.keras.preprocessing.image import ImageDataGenerator, array_to_img, img_to_array, load_img\n",
    "from tensorflow.keras.callbacks import TensorBoard\n",
    "import io\n",
    "import time\n",
    "import datetime\n",
    "from tensorflow.keras.optimizers import Adam,Adadelta\n",
    "from tensorflow.keras.preprocessing.image import ImageDataGenerator\n",
    "import urllib"
   ]
  },
  {
   "cell_type": "markdown",
   "metadata": {},
   "source": [
    "## Model building"
   ]
  },
  {
   "cell_type": "code",
   "execution_count": 3,
   "metadata": {},
   "outputs": [],
   "source": [
    "batch_size_train = 25\n",
    "num_classes= 4\n",
    "IMAGE_SIZE=[200,200]\n",
    "classes_required = ['Aviator','Oval','Rectangle','Wayfarer']"
   ]
  },
  {
   "cell_type": "code",
   "execution_count": 4,
   "metadata": {},
   "outputs": [],
   "source": [
    "datagen = ImageDataGenerator(rescale=1.0/255.0,\n",
    "                             #shear_range = 0.2,\n",
    "                             #zoom_range = 0.2\n",
    "                            )"
   ]
  },
  {
   "cell_type": "code",
   "execution_count": 5,
   "metadata": {},
   "outputs": [
    {
     "name": "stdout",
     "output_type": "stream",
     "text": [
      "Found 5012 images belonging to 4 classes.\n"
     ]
    },
    {
     "data": {
      "text/plain": [
       "tensorflow.python.keras.preprocessing.image.DirectoryIterator"
      ]
     },
     "execution_count": 5,
     "metadata": {},
     "output_type": "execute_result"
    }
   ],
   "source": [
    "#Input the Training Data\n",
    "\n",
    "train_path = 'D:/My ML Projects/lenskart task/sub-train/Non-Power Reading'\n",
    "train_batches = datagen.flow_from_directory(train_path, target_size=(200,200), classes=classes_required, batch_size=batch_size_train)\n",
    "type(train_batches)"
   ]
  },
  {
   "cell_type": "code",
   "execution_count": 6,
   "metadata": {},
   "outputs": [
    {
     "name": "stdout",
     "output_type": "stream",
     "text": [
      "Batch shape=(25, 200, 200, 3), min=0.000, max=1.000\n"
     ]
    }
   ],
   "source": [
    "batchX, batchy = train_batches.next()\n",
    "print('Batch shape=%s, min=%.3f, max=%.3f' % (batchX.shape, batchX.min(), batchX.max()))"
   ]
  },
  {
   "cell_type": "code",
   "execution_count": 7,
   "metadata": {},
   "outputs": [],
   "source": [
    "train_imgs, train_labels = next(train_batches)"
   ]
  },
  {
   "cell_type": "code",
   "execution_count": 8,
   "metadata": {},
   "outputs": [
    {
     "data": {
      "text/plain": [
       "array([[[1., 1., 1.],\n",
       "        [1., 1., 1.],\n",
       "        [1., 1., 1.],\n",
       "        ...,\n",
       "        [1., 1., 1.],\n",
       "        [1., 1., 1.],\n",
       "        [1., 1., 1.]],\n",
       "\n",
       "       [[1., 1., 1.],\n",
       "        [1., 1., 1.],\n",
       "        [1., 1., 1.],\n",
       "        ...,\n",
       "        [1., 1., 1.],\n",
       "        [1., 1., 1.],\n",
       "        [1., 1., 1.]],\n",
       "\n",
       "       [[1., 1., 1.],\n",
       "        [1., 1., 1.],\n",
       "        [1., 1., 1.],\n",
       "        ...,\n",
       "        [1., 1., 1.],\n",
       "        [1., 1., 1.],\n",
       "        [1., 1., 1.]],\n",
       "\n",
       "       ...,\n",
       "\n",
       "       [[1., 1., 1.],\n",
       "        [1., 1., 1.],\n",
       "        [1., 1., 1.],\n",
       "        ...,\n",
       "        [1., 1., 1.],\n",
       "        [1., 1., 1.],\n",
       "        [1., 1., 1.]],\n",
       "\n",
       "       [[1., 1., 1.],\n",
       "        [1., 1., 1.],\n",
       "        [1., 1., 1.],\n",
       "        ...,\n",
       "        [1., 1., 1.],\n",
       "        [1., 1., 1.],\n",
       "        [1., 1., 1.]],\n",
       "\n",
       "       [[1., 1., 1.],\n",
       "        [1., 1., 1.],\n",
       "        [1., 1., 1.],\n",
       "        ...,\n",
       "        [1., 1., 1.],\n",
       "        [1., 1., 1.],\n",
       "        [1., 1., 1.]]], dtype=float32)"
      ]
     },
     "execution_count": 8,
     "metadata": {},
     "output_type": "execute_result"
    }
   ],
   "source": [
    "train_imgs[0]"
   ]
  },
  {
   "cell_type": "code",
   "execution_count": 9,
   "metadata": {},
   "outputs": [],
   "source": [
    "config = tf.compat.v1.ConfigProto( device_count = {'GPU': 1 , 'CPU': 64} ) \n",
    "sess = tf.compat.v1.Session(config=config) \n",
    "#keras.backend.set_session(sess)\n",
    "tf.compat.v1.keras.backend.set_session(\n",
    "    sess\n",
    ")\n",
    "gpu_options = tf.compat.v1.GPUOptions(allow_growth=True, per_process_gpu_memory_fraction=0.333)\n",
    "session = tf.compat.v1.InteractiveSession(config=tf.compat.v1.ConfigProto(gpu_options=gpu_options))"
   ]
  },
  {
   "cell_type": "markdown",
   "metadata": {},
   "source": [
    "### Model Architecture"
   ]
  },
  {
   "cell_type": "code",
   "execution_count": 10,
   "metadata": {},
   "outputs": [],
   "source": [
    "model=Sequential()\n",
    "model.add(Conv2D(16,kernel_size=(3,3), activation=\"relu\" ,input_shape=IMAGE_SIZE + [3], padding='same'))\n",
    "\n",
    "model.add(Conv2D(32, kernel_size=(3,3), activation=\"relu\",padding='same'))\n",
    "model.add(BatchNormalization()) \n",
    "model.add(MaxPooling2D(pool_size=(2,2)))\n",
    "model.add(Dropout(0.30))\n",
    "\n",
    "model.add(Conv2D(64, kernel_size=(3,3), activation=\"relu\",padding='same'))\n",
    "#model.add(BatchNormalization()) \n",
    "model.add(MaxPooling2D(pool_size=(2,2)))\n",
    "model.add(Dropout(0.35))\n",
    "\n",
    "model.add(Conv2D(128, kernel_size=(3,3), activation=\"relu\",padding='same'))\n",
    "#model.add(MaxPooling2D(pool_size=(2,2)))\n",
    "model.add(BatchNormalization()) \n",
    "model.add(Dropout(0.45))\n",
    "\n",
    "model.add(Flatten())\n",
    "model.add(Dense(64, activation=\"relu\"))\n",
    "model.add(Dense(num_classes, activation=\"softmax\"))"
   ]
  },
  {
   "cell_type": "code",
   "execution_count": 11,
   "metadata": {},
   "outputs": [
    {
     "name": "stdout",
     "output_type": "stream",
     "text": [
      "Model: \"sequential\"\n",
      "_________________________________________________________________\n",
      "Layer (type)                 Output Shape              Param #   \n",
      "=================================================================\n",
      "conv2d (Conv2D)              (None, 200, 200, 16)      448       \n",
      "_________________________________________________________________\n",
      "conv2d_1 (Conv2D)            (None, 200, 200, 32)      4640      \n",
      "_________________________________________________________________\n",
      "batch_normalization (BatchNo (None, 200, 200, 32)      128       \n",
      "_________________________________________________________________\n",
      "max_pooling2d (MaxPooling2D) (None, 100, 100, 32)      0         \n",
      "_________________________________________________________________\n",
      "dropout (Dropout)            (None, 100, 100, 32)      0         \n",
      "_________________________________________________________________\n",
      "conv2d_2 (Conv2D)            (None, 100, 100, 64)      18496     \n",
      "_________________________________________________________________\n",
      "max_pooling2d_1 (MaxPooling2 (None, 50, 50, 64)        0         \n",
      "_________________________________________________________________\n",
      "dropout_1 (Dropout)          (None, 50, 50, 64)        0         \n",
      "_________________________________________________________________\n",
      "conv2d_3 (Conv2D)            (None, 50, 50, 128)       73856     \n",
      "_________________________________________________________________\n",
      "batch_normalization_1 (Batch (None, 50, 50, 128)       512       \n",
      "_________________________________________________________________\n",
      "dropout_2 (Dropout)          (None, 50, 50, 128)       0         \n",
      "_________________________________________________________________\n",
      "flatten (Flatten)            (None, 320000)            0         \n",
      "_________________________________________________________________\n",
      "dense (Dense)                (None, 64)                20480064  \n",
      "_________________________________________________________________\n",
      "dense_1 (Dense)              (None, 4)                 260       \n",
      "=================================================================\n",
      "Total params: 20,578,404\n",
      "Trainable params: 20,578,084\n",
      "Non-trainable params: 320\n",
      "_________________________________________________________________\n"
     ]
    }
   ],
   "source": [
    "model.summary()"
   ]
  },
  {
   "cell_type": "code",
   "execution_count": 12,
   "metadata": {},
   "outputs": [],
   "source": [
    "# Complie the model\n",
    "opt = Adadelta(learning_rate=0.0001, decay=1e-6)\n",
    "model.compile(optimizer=opt, loss='categorical_crossentropy', metrics=['accuracy'])"
   ]
  },
  {
   "cell_type": "code",
   "execution_count": 13,
   "metadata": {},
   "outputs": [
    {
     "name": "stdout",
     "output_type": "stream",
     "text": [
      "WARNING:tensorflow:From <ipython-input-13-f62277da6d6a>:1: Model.fit_generator (from tensorflow.python.keras.engine.training) is deprecated and will be removed in a future version.\n",
      "Instructions for updating:\n",
      "Please use Model.fit, which supports generators.\n",
      "Epoch 1/100\n",
      " 2/25 [=>............................] - ETA: 1s - loss: 1.9236 - accuracy: 0.2200WARNING:tensorflow:Callbacks method `on_train_batch_end` is slow compared to the batch time (batch time: 0.0519s vs `on_train_batch_end` time: 0.0893s). Check your callbacks.\n",
      "25/25 [==============================] - 8s 337ms/step - loss: 2.0341 - accuracy: 0.2336\n",
      "Epoch 2/100\n",
      "25/25 [==============================] - 8s 325ms/step - loss: 2.0007 - accuracy: 0.2656\n",
      "Epoch 3/100\n",
      "25/25 [==============================] - 8s 310ms/step - loss: 1.9755 - accuracy: 0.2624\n",
      "Epoch 4/100\n",
      "25/25 [==============================] - 8s 309ms/step - loss: 1.9007 - accuracy: 0.2720\n",
      "Epoch 5/100\n",
      "25/25 [==============================] - 8s 305ms/step - loss: 1.8175 - accuracy: 0.2864\n",
      "Epoch 6/100\n",
      "25/25 [==============================] - 8s 302ms/step - loss: 1.7483 - accuracy: 0.3136\n",
      "Epoch 7/100\n",
      "25/25 [==============================] - 7s 297ms/step - loss: 1.6984 - accuracy: 0.3392\n",
      "Epoch 8/100\n",
      "25/25 [==============================] - 7s 281ms/step - loss: 1.6196 - accuracy: 0.3616\n",
      "Epoch 9/100\n",
      "25/25 [==============================] - 7s 277ms/step - loss: 1.6776 - accuracy: 0.3584\n",
      "Epoch 10/100\n",
      "25/25 [==============================] - 7s 276ms/step - loss: 1.5302 - accuracy: 0.3936\n",
      "Epoch 11/100\n",
      "25/25 [==============================] - 7s 263ms/step - loss: 1.5437 - accuracy: 0.3952\n",
      "Epoch 12/100\n",
      "25/25 [==============================] - 7s 277ms/step - loss: 1.4917 - accuracy: 0.3872\n",
      "Epoch 13/100\n",
      "25/25 [==============================] - 7s 267ms/step - loss: 1.4355 - accuracy: 0.4352\n",
      "Epoch 14/100\n",
      "25/25 [==============================] - 6s 258ms/step - loss: 1.4838 - accuracy: 0.4256\n",
      "Epoch 15/100\n",
      "25/25 [==============================] - 7s 261ms/step - loss: 1.4587 - accuracy: 0.4000\n",
      "Epoch 16/100\n",
      "25/25 [==============================] - 7s 269ms/step - loss: 1.4641 - accuracy: 0.4346\n",
      "Epoch 17/100\n",
      "25/25 [==============================] - 7s 261ms/step - loss: 1.4736 - accuracy: 0.4336\n",
      "Epoch 18/100\n",
      "25/25 [==============================] - 7s 269ms/step - loss: 1.3680 - accuracy: 0.4656\n",
      "Epoch 19/100\n",
      "25/25 [==============================] - 6s 254ms/step - loss: 1.3116 - accuracy: 0.4912\n",
      "Epoch 20/100\n",
      "25/25 [==============================] - 7s 264ms/step - loss: 1.3614 - accuracy: 0.4624\n",
      "Epoch 21/100\n",
      "25/25 [==============================] - 8s 302ms/step - loss: 1.3049 - accuracy: 0.4912\n",
      "Epoch 22/100\n",
      "25/25 [==============================] - 9s 341ms/step - loss: 1.2823 - accuracy: 0.4736\n",
      "Epoch 23/100\n",
      "25/25 [==============================] - 8s 339ms/step - loss: 1.3596 - accuracy: 0.4736\n",
      "Epoch 24/100\n",
      "25/25 [==============================] - 8s 336ms/step - loss: 1.2115 - accuracy: 0.5088\n",
      "Epoch 25/100\n",
      "25/25 [==============================] - 10s 381ms/step - loss: 1.2790 - accuracy: 0.4800\n",
      "Epoch 26/100\n",
      "25/25 [==============================] - 8s 337ms/step - loss: 1.3068 - accuracy: 0.5024\n",
      "Epoch 27/100\n",
      "25/25 [==============================] - 8s 329ms/step - loss: 1.2445 - accuracy: 0.5136\n",
      "Epoch 28/100\n",
      "25/25 [==============================] - 8s 314ms/step - loss: 1.1588 - accuracy: 0.5359\n",
      "Epoch 29/100\n",
      "25/25 [==============================] - 8s 324ms/step - loss: 1.1751 - accuracy: 0.5424\n",
      "Epoch 30/100\n",
      "25/25 [==============================] - 8s 329ms/step - loss: 1.2267 - accuracy: 0.5168\n",
      "Epoch 31/100\n",
      "25/25 [==============================] - 8s 325ms/step - loss: 1.1625 - accuracy: 0.5504\n",
      "Epoch 32/100\n",
      "25/25 [==============================] - 8s 318ms/step - loss: 1.1982 - accuracy: 0.5049\n",
      "Epoch 33/100\n",
      "25/25 [==============================] - 8s 329ms/step - loss: 1.1015 - accuracy: 0.5776\n",
      "Epoch 34/100\n",
      "25/25 [==============================] - 8s 323ms/step - loss: 1.1501 - accuracy: 0.5360\n",
      "Epoch 35/100\n",
      "25/25 [==============================] - 8s 326ms/step - loss: 1.0966 - accuracy: 0.5584\n",
      "Epoch 36/100\n",
      "25/25 [==============================] - 9s 341ms/step - loss: 1.1048 - accuracy: 0.5632\n",
      "Epoch 37/100\n",
      "25/25 [==============================] - 9s 343ms/step - loss: 1.1050 - accuracy: 0.5392\n",
      "Epoch 38/100\n",
      "25/25 [==============================] - 8s 322ms/step - loss: 1.0907 - accuracy: 0.5728\n",
      "Epoch 39/100\n",
      "25/25 [==============================] - 8s 324ms/step - loss: 1.1539 - accuracy: 0.5632\n",
      "Epoch 40/100\n",
      "25/25 [==============================] - 8s 335ms/step - loss: 1.0862 - accuracy: 0.5696\n",
      "Epoch 41/100\n",
      "25/25 [==============================] - 8s 323ms/step - loss: 1.1172 - accuracy: 0.5760\n",
      "Epoch 42/100\n",
      "25/25 [==============================] - 8s 316ms/step - loss: 1.0219 - accuracy: 0.5936\n",
      "Epoch 43/100\n",
      "25/25 [==============================] - 8s 332ms/step - loss: 1.0562 - accuracy: 0.5472\n",
      "Epoch 44/100\n",
      "25/25 [==============================] - 8s 327ms/step - loss: 1.1296 - accuracy: 0.5584\n",
      "Epoch 45/100\n",
      "25/25 [==============================] - 8s 322ms/step - loss: 1.0534 - accuracy: 0.5760\n",
      "Epoch 46/100\n",
      "25/25 [==============================] - 8s 311ms/step - loss: 1.0411 - accuracy: 0.6080\n",
      "Epoch 47/100\n",
      "25/25 [==============================] - 8s 326ms/step - loss: 1.0266 - accuracy: 0.5936\n",
      "Epoch 48/100\n",
      "25/25 [==============================] - 8s 331ms/step - loss: 1.0143 - accuracy: 0.5840\n",
      "Epoch 49/100\n",
      "25/25 [==============================] - 8s 332ms/step - loss: 1.0170 - accuracy: 0.5888\n",
      "Epoch 50/100\n",
      "25/25 [==============================] - 9s 346ms/step - loss: 1.0117 - accuracy: 0.6016\n",
      "Epoch 51/100\n",
      "25/25 [==============================] - 8s 329ms/step - loss: 0.9203 - accuracy: 0.6307\n",
      "Epoch 52/100\n",
      "25/25 [==============================] - 8s 338ms/step - loss: 0.9925 - accuracy: 0.6032\n",
      "Epoch 53/100\n",
      "25/25 [==============================] - 8s 316ms/step - loss: 0.9904 - accuracy: 0.5948\n",
      "Epoch 54/100\n",
      "25/25 [==============================] - 8s 325ms/step - loss: 0.9976 - accuracy: 0.6112\n",
      "Epoch 55/100\n",
      "25/25 [==============================] - 8s 337ms/step - loss: 0.9179 - accuracy: 0.6336\n",
      "Epoch 56/100\n",
      "25/25 [==============================] - 8s 325ms/step - loss: 0.8834 - accuracy: 0.6416\n",
      "Epoch 57/100\n",
      "25/25 [==============================] - 8s 315ms/step - loss: 0.9262 - accuracy: 0.6368\n",
      "Epoch 58/100\n",
      "25/25 [==============================] - 8s 319ms/step - loss: 0.9620 - accuracy: 0.6288\n",
      "Epoch 59/100\n",
      "25/25 [==============================] - 8s 333ms/step - loss: 0.9658 - accuracy: 0.5984\n",
      "Epoch 60/100\n",
      "25/25 [==============================] - 9s 344ms/step - loss: 0.9959 - accuracy: 0.5968\n",
      "Epoch 61/100\n",
      "25/25 [==============================] - 8s 322ms/step - loss: 0.9085 - accuracy: 0.6544\n",
      "Epoch 62/100\n",
      "25/25 [==============================] - 9s 358ms/step - loss: 0.8752 - accuracy: 0.6624\n",
      "Epoch 63/100\n",
      "25/25 [==============================] - 9s 353ms/step - loss: 0.9049 - accuracy: 0.6416\n",
      "Epoch 64/100\n",
      "25/25 [==============================] - 8s 338ms/step - loss: 0.9110 - accuracy: 0.6608\n",
      "Epoch 65/100\n",
      "25/25 [==============================] - 8s 332ms/step - loss: 0.8856 - accuracy: 0.6480\n",
      "Epoch 66/100\n",
      "25/25 [==============================] - 8s 333ms/step - loss: 0.8333 - accuracy: 0.6624\n",
      "Epoch 67/100\n",
      "25/25 [==============================] - 8s 325ms/step - loss: 0.8895 - accuracy: 0.6320\n",
      "Epoch 68/100\n",
      "25/25 [==============================] - 8s 338ms/step - loss: 0.9131 - accuracy: 0.6000\n",
      "Epoch 69/100\n",
      "25/25 [==============================] - 8s 312ms/step - loss: 0.8013 - accuracy: 0.6752\n",
      "Epoch 70/100\n",
      "25/25 [==============================] - 8s 326ms/step - loss: 0.8380 - accuracy: 0.6512\n",
      "Epoch 71/100\n",
      "25/25 [==============================] - 8s 338ms/step - loss: 0.8141 - accuracy: 0.6667\n",
      "Epoch 72/100\n",
      "25/25 [==============================] - 8s 308ms/step - loss: 0.8497 - accuracy: 0.6585\n",
      "Epoch 73/100\n",
      "25/25 [==============================] - 8s 332ms/step - loss: 0.8447 - accuracy: 0.6656\n",
      "Epoch 74/100\n",
      "25/25 [==============================] - 8s 322ms/step - loss: 0.7417 - accuracy: 0.6944\n",
      "Epoch 75/100\n",
      "25/25 [==============================] - 9s 356ms/step - loss: 0.8825 - accuracy: 0.6416\n",
      "Epoch 76/100\n"
     ]
    },
    {
     "name": "stdout",
     "output_type": "stream",
     "text": [
      "25/25 [==============================] - 11s 457ms/step - loss: 0.7916 - accuracy: 0.6846\n",
      "Epoch 77/100\n",
      "25/25 [==============================] - 10s 407ms/step - loss: 0.8492 - accuracy: 0.6560\n",
      "Epoch 78/100\n",
      "25/25 [==============================] - 9s 347ms/step - loss: 0.8568 - accuracy: 0.6416\n",
      "Epoch 79/100\n",
      "25/25 [==============================] - 8s 339ms/step - loss: 0.8226 - accuracy: 0.6480\n",
      "Epoch 80/100\n",
      "25/25 [==============================] - 8s 334ms/step - loss: 0.8050 - accuracy: 0.6656\n",
      "Epoch 81/100\n",
      "25/25 [==============================] - 9s 377ms/step - loss: 0.8257 - accuracy: 0.6416\n",
      "Epoch 82/100\n",
      "25/25 [==============================] - 9s 360ms/step - loss: 0.8098 - accuracy: 0.6688\n",
      "Epoch 83/100\n",
      "25/25 [==============================] - 8s 333ms/step - loss: 0.8089 - accuracy: 0.6672\n",
      "Epoch 84/100\n",
      "25/25 [==============================] - 8s 328ms/step - loss: 0.8061 - accuracy: 0.6560\n",
      "Epoch 85/100\n",
      "25/25 [==============================] - 9s 341ms/step - loss: 0.7997 - accuracy: 0.6784\n",
      "Epoch 86/100\n",
      "25/25 [==============================] - 11s 437ms/step - loss: 0.8192 - accuracy: 0.6800\n",
      "Epoch 87/100\n",
      "25/25 [==============================] - 10s 409ms/step - loss: 0.7618 - accuracy: 0.7200\n",
      "Epoch 88/100\n",
      "25/25 [==============================] - 11s 440ms/step - loss: 0.7171 - accuracy: 0.7072\n",
      "Epoch 89/100\n",
      "25/25 [==============================] - 10s 392ms/step - loss: 0.7824 - accuracy: 0.6832\n",
      "Epoch 90/100\n",
      "25/25 [==============================] - 10s 415ms/step - loss: 0.7902 - accuracy: 0.6736\n",
      "Epoch 91/100\n",
      "25/25 [==============================] - 9s 357ms/step - loss: 0.8062 - accuracy: 0.6592\n",
      "Epoch 92/100\n",
      "25/25 [==============================] - 9s 352ms/step - loss: 0.7576 - accuracy: 0.7008\n",
      "Epoch 93/100\n",
      "25/25 [==============================] - 10s 387ms/step - loss: 0.6930 - accuracy: 0.7184\n",
      "Epoch 94/100\n",
      "25/25 [==============================] - 10s 398ms/step - loss: 0.7628 - accuracy: 0.7024\n",
      "Epoch 95/100\n",
      "25/25 [==============================] - 9s 375ms/step - loss: 0.7657 - accuracy: 0.6912\n",
      "Epoch 96/100\n",
      "25/25 [==============================] - 8s 337ms/step - loss: 0.7544 - accuracy: 0.6863\n",
      "Epoch 97/100\n",
      "25/25 [==============================] - 8s 315ms/step - loss: 0.7097 - accuracy: 0.6944\n",
      "Epoch 98/100\n",
      "25/25 [==============================] - 8s 331ms/step - loss: 0.7667 - accuracy: 0.7136\n",
      "Epoch 99/100\n",
      "25/25 [==============================] - 8s 330ms/step - loss: 0.6928 - accuracy: 0.7271\n",
      "Epoch 100/100\n",
      "25/25 [==============================] - 8s 333ms/step - loss: 0.7062 - accuracy: 0.7104\n"
     ]
    },
    {
     "data": {
      "text/plain": [
       "<tensorflow.python.keras.callbacks.History at 0x1d887dc36c8>"
      ]
     },
     "execution_count": 13,
     "metadata": {},
     "output_type": "execute_result"
    }
   ],
   "source": [
    "model.fit_generator(train_batches, steps_per_epoch=25, epochs=100, verbose=1)"
   ]
  },
  {
   "cell_type": "code",
   "execution_count": 14,
   "metadata": {},
   "outputs": [
    {
     "name": "stdout",
     "output_type": "stream",
     "text": [
      "Saved model to disk\n"
     ]
    }
   ],
   "source": [
    "model.save(\"model_NonPowerReading_25_batch.h5\")\n",
    "print(\"Saved model to disk\")"
   ]
  },
  {
   "cell_type": "code",
   "execution_count": null,
   "metadata": {},
   "outputs": [],
   "source": []
  }
 ],
 "metadata": {
  "kernelspec": {
   "display_name": "Python 3.7 GPU",
   "language": "python",
   "name": "tensorflow"
  },
  "language_info": {
   "codemirror_mode": {
    "name": "ipython",
    "version": 3
   },
   "file_extension": ".py",
   "mimetype": "text/x-python",
   "name": "python",
   "nbconvert_exporter": "python",
   "pygments_lexer": "ipython3",
   "version": "3.7.7"
  }
 },
 "nbformat": 4,
 "nbformat_minor": 4
}
