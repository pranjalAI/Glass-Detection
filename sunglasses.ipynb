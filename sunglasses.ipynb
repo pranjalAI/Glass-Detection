{
 "cells": [
  {
   "cell_type": "code",
   "execution_count": 5,
   "metadata": {},
   "outputs": [],
   "source": [
    "import os, random, shutil\n",
    "import numpy as np\n",
    "import pandas as pd\n",
    "import PIL\n",
    "#import keras\n",
    "import itertools\n",
    "from PIL import Image\n",
    "\n",
    "import tensorflow as tf\n",
    "\n",
    "from sklearn.utils import shuffle\n",
    "from sklearn.model_selection import train_test_split\n",
    "from sklearn import preprocessing\n",
    "#from skimage import feature, data, io, measure\n",
    "from sklearn.metrics import confusion_matrix\n",
    "\n",
    "import matplotlib.pyplot as plt\n",
    "from matplotlib import ticker\n",
    "import seaborn as sns\n",
    "%matplotlib inline \n",
    "from tqdm import tqdm\n",
    "import cv2\n",
    "from tensorflow.keras import backend as K\n",
    "from tensorflow.keras.models import Model\n",
    "from tensorflow.keras.models import Sequential\n",
    "from tensorflow.keras.layers import Input, Dropout, Flatten, Conv2D, MaxPooling2D, Dense, Activation\n",
    "from tensorflow.keras.optimizers import RMSprop, Adam\n",
    "from tensorflow.keras.layers import BatchNormalization\n",
    "#from keras.callbacks import ModelCheckpoint, Callback, EarlyStopping\n",
    "from keras.utils import np_utils\n",
    "from tensorflow.keras.preprocessing.image import ImageDataGenerator, array_to_img, img_to_array, load_img\n",
    "from tensorflow.keras.callbacks import TensorBoard\n",
    "import io\n",
    "import time\n",
    "import datetime\n",
    "from tensorflow.keras.optimizers import Adam,Adadelta\n",
    "from tensorflow.keras.preprocessing.image import ImageDataGenerator\n",
    "import urllib"
   ]
  },
  {
   "cell_type": "markdown",
   "metadata": {},
   "source": [
    "## Model building"
   ]
  },
  {
   "cell_type": "code",
   "execution_count": 2,
   "metadata": {},
   "outputs": [],
   "source": [
    "batch_size_train = 25\n",
    "num_classes= 4\n",
    "IMAGE_SIZE=[200,200]\n",
    "classes_required = ['Aviator','Oval','Rectangle','Wayfarer']"
   ]
  },
  {
   "cell_type": "code",
   "execution_count": 3,
   "metadata": {},
   "outputs": [],
   "source": [
    "datagen = ImageDataGenerator(rescale=1.0/255.0,\n",
    "                             #shear_range = 0.2,\n",
    "                             #zoom_range = 0.2\n",
    "                            )"
   ]
  },
  {
   "cell_type": "code",
   "execution_count": 4,
   "metadata": {},
   "outputs": [
    {
     "name": "stdout",
     "output_type": "stream",
     "text": [
      "Found 3367 images belonging to 4 classes.\n"
     ]
    },
    {
     "data": {
      "text/plain": [
       "tensorflow.python.keras.preprocessing.image.DirectoryIterator"
      ]
     },
     "execution_count": 4,
     "metadata": {},
     "output_type": "execute_result"
    }
   ],
   "source": [
    "#Input the Training Data\n",
    "\n",
    "train_path = 'D:/My ML Projects/lenskart task/sub-train/sunglasses'\n",
    "train_batches = datagen.flow_from_directory(train_path, target_size=(200,200), classes=classes_required, batch_size=batch_size_train)\n",
    "type(train_batches)"
   ]
  },
  {
   "cell_type": "code",
   "execution_count": 6,
   "metadata": {},
   "outputs": [
    {
     "name": "stdout",
     "output_type": "stream",
     "text": [
      "Batch shape=(25, 200, 200, 3), min=0.000, max=1.000\n"
     ]
    }
   ],
   "source": [
    "batchX, batchy = train_batches.next()\n",
    "print('Batch shape=%s, min=%.3f, max=%.3f' % (batchX.shape, batchX.min(), batchX.max()))"
   ]
  },
  {
   "cell_type": "code",
   "execution_count": 7,
   "metadata": {},
   "outputs": [],
   "source": [
    "train_imgs, train_labels = next(train_batches)"
   ]
  },
  {
   "cell_type": "code",
   "execution_count": 8,
   "metadata": {},
   "outputs": [
    {
     "data": {
      "text/plain": [
       "array([[[1., 1., 1.],\n",
       "        [1., 1., 1.],\n",
       "        [1., 1., 1.],\n",
       "        ...,\n",
       "        [1., 1., 1.],\n",
       "        [1., 1., 1.],\n",
       "        [1., 1., 1.]],\n",
       "\n",
       "       [[1., 1., 1.],\n",
       "        [1., 1., 1.],\n",
       "        [1., 1., 1.],\n",
       "        ...,\n",
       "        [1., 1., 1.],\n",
       "        [1., 1., 1.],\n",
       "        [1., 1., 1.]],\n",
       "\n",
       "       [[1., 1., 1.],\n",
       "        [1., 1., 1.],\n",
       "        [1., 1., 1.],\n",
       "        ...,\n",
       "        [1., 1., 1.],\n",
       "        [1., 1., 1.],\n",
       "        [1., 1., 1.]],\n",
       "\n",
       "       ...,\n",
       "\n",
       "       [[1., 1., 1.],\n",
       "        [1., 1., 1.],\n",
       "        [1., 1., 1.],\n",
       "        ...,\n",
       "        [1., 1., 1.],\n",
       "        [1., 1., 1.],\n",
       "        [1., 1., 1.]],\n",
       "\n",
       "       [[1., 1., 1.],\n",
       "        [1., 1., 1.],\n",
       "        [1., 1., 1.],\n",
       "        ...,\n",
       "        [1., 1., 1.],\n",
       "        [1., 1., 1.],\n",
       "        [1., 1., 1.]],\n",
       "\n",
       "       [[1., 1., 1.],\n",
       "        [1., 1., 1.],\n",
       "        [1., 1., 1.],\n",
       "        ...,\n",
       "        [1., 1., 1.],\n",
       "        [1., 1., 1.],\n",
       "        [1., 1., 1.]]], dtype=float32)"
      ]
     },
     "execution_count": 8,
     "metadata": {},
     "output_type": "execute_result"
    }
   ],
   "source": [
    "train_imgs[0]"
   ]
  },
  {
   "cell_type": "code",
   "execution_count": 9,
   "metadata": {},
   "outputs": [
    {
     "data": {
      "text/plain": [
       "array([[[1., 1., 1.],\n",
       "        [1., 1., 1.],\n",
       "        [1., 1., 1.],\n",
       "        ...,\n",
       "        [1., 1., 1.],\n",
       "        [1., 1., 1.],\n",
       "        [1., 1., 1.]],\n",
       "\n",
       "       [[1., 1., 1.],\n",
       "        [1., 1., 1.],\n",
       "        [1., 1., 1.],\n",
       "        ...,\n",
       "        [1., 1., 1.],\n",
       "        [1., 1., 1.],\n",
       "        [1., 1., 1.]],\n",
       "\n",
       "       [[1., 1., 1.],\n",
       "        [1., 1., 1.],\n",
       "        [1., 1., 1.],\n",
       "        ...,\n",
       "        [1., 1., 1.],\n",
       "        [1., 1., 1.],\n",
       "        [1., 1., 1.]],\n",
       "\n",
       "       ...,\n",
       "\n",
       "       [[1., 1., 1.],\n",
       "        [1., 1., 1.],\n",
       "        [1., 1., 1.],\n",
       "        ...,\n",
       "        [1., 1., 1.],\n",
       "        [1., 1., 1.],\n",
       "        [1., 1., 1.]],\n",
       "\n",
       "       [[1., 1., 1.],\n",
       "        [1., 1., 1.],\n",
       "        [1., 1., 1.],\n",
       "        ...,\n",
       "        [1., 1., 1.],\n",
       "        [1., 1., 1.],\n",
       "        [1., 1., 1.]],\n",
       "\n",
       "       [[1., 1., 1.],\n",
       "        [1., 1., 1.],\n",
       "        [1., 1., 1.],\n",
       "        ...,\n",
       "        [1., 1., 1.],\n",
       "        [1., 1., 1.],\n",
       "        [1., 1., 1.]]], dtype=float32)"
      ]
     },
     "execution_count": 9,
     "metadata": {},
     "output_type": "execute_result"
    }
   ],
   "source": [
    "train_imgs[0]"
   ]
  },
  {
   "cell_type": "code",
   "execution_count": 10,
   "metadata": {},
   "outputs": [],
   "source": [
    "config = tf.compat.v1.ConfigProto( device_count = {'GPU': 1 , 'CPU': 64} ) \n",
    "sess = tf.compat.v1.Session(config=config) \n",
    "#keras.backend.set_session(sess)\n",
    "tf.compat.v1.keras.backend.set_session(\n",
    "    sess\n",
    ")\n",
    "gpu_options = tf.compat.v1.GPUOptions(allow_growth=True, per_process_gpu_memory_fraction=0.333)\n",
    "session = tf.compat.v1.InteractiveSession(config=tf.compat.v1.ConfigProto(gpu_options=gpu_options))"
   ]
  },
  {
   "cell_type": "markdown",
   "metadata": {},
   "source": [
    "### Model Architecture"
   ]
  },
  {
   "cell_type": "code",
   "execution_count": 11,
   "metadata": {},
   "outputs": [],
   "source": [
    "model=Sequential()\n",
    "model.add(Conv2D(16,kernel_size=(3,3), activation=\"relu\" ,input_shape=IMAGE_SIZE + [3], padding='same'))\n",
    "\n",
    "model.add(Conv2D(32, kernel_size=(3,3), activation=\"relu\",padding='same'))\n",
    "model.add(BatchNormalization()) \n",
    "model.add(MaxPooling2D(pool_size=(2,2)))\n",
    "model.add(Dropout(0.30))\n",
    "\n",
    "model.add(Conv2D(64, kernel_size=(3,3), activation=\"relu\",padding='same'))\n",
    "#model.add(BatchNormalization()) \n",
    "model.add(MaxPooling2D(pool_size=(2,2)))\n",
    "model.add(Dropout(0.35))\n",
    "\n",
    "model.add(Conv2D(128, kernel_size=(3,3), activation=\"relu\",padding='same'))\n",
    "#model.add(MaxPooling2D(pool_size=(2,2)))\n",
    "model.add(BatchNormalization()) \n",
    "model.add(Dropout(0.45))\n",
    "\n",
    "model.add(Flatten())\n",
    "model.add(Dense(64, activation=\"relu\"))\n",
    "model.add(Dense(num_classes, activation=\"softmax\"))"
   ]
  },
  {
   "cell_type": "code",
   "execution_count": 12,
   "metadata": {},
   "outputs": [
    {
     "name": "stdout",
     "output_type": "stream",
     "text": [
      "Model: \"sequential\"\n",
      "_________________________________________________________________\n",
      "Layer (type)                 Output Shape              Param #   \n",
      "=================================================================\n",
      "conv2d (Conv2D)              (None, 200, 200, 16)      448       \n",
      "_________________________________________________________________\n",
      "conv2d_1 (Conv2D)            (None, 200, 200, 32)      4640      \n",
      "_________________________________________________________________\n",
      "batch_normalization (BatchNo (None, 200, 200, 32)      128       \n",
      "_________________________________________________________________\n",
      "max_pooling2d (MaxPooling2D) (None, 100, 100, 32)      0         \n",
      "_________________________________________________________________\n",
      "dropout (Dropout)            (None, 100, 100, 32)      0         \n",
      "_________________________________________________________________\n",
      "conv2d_2 (Conv2D)            (None, 100, 100, 64)      18496     \n",
      "_________________________________________________________________\n",
      "max_pooling2d_1 (MaxPooling2 (None, 50, 50, 64)        0         \n",
      "_________________________________________________________________\n",
      "dropout_1 (Dropout)          (None, 50, 50, 64)        0         \n",
      "_________________________________________________________________\n",
      "conv2d_3 (Conv2D)            (None, 50, 50, 128)       73856     \n",
      "_________________________________________________________________\n",
      "batch_normalization_1 (Batch (None, 50, 50, 128)       512       \n",
      "_________________________________________________________________\n",
      "dropout_2 (Dropout)          (None, 50, 50, 128)       0         \n",
      "_________________________________________________________________\n",
      "flatten (Flatten)            (None, 320000)            0         \n",
      "_________________________________________________________________\n",
      "dense (Dense)                (None, 64)                20480064  \n",
      "_________________________________________________________________\n",
      "dense_1 (Dense)              (None, 4)                 260       \n",
      "=================================================================\n",
      "Total params: 20,578,404\n",
      "Trainable params: 20,578,084\n",
      "Non-trainable params: 320\n",
      "_________________________________________________________________\n"
     ]
    }
   ],
   "source": [
    "model.summary()"
   ]
  },
  {
   "cell_type": "code",
   "execution_count": 13,
   "metadata": {},
   "outputs": [],
   "source": [
    "# Complie the model\n",
    "opt = Adadelta(learning_rate=0.0001, decay=1e-6)\n",
    "model.compile(optimizer=opt, loss='categorical_crossentropy', metrics=['accuracy'])"
   ]
  },
  {
   "cell_type": "code",
   "execution_count": 14,
   "metadata": {},
   "outputs": [
    {
     "name": "stdout",
     "output_type": "stream",
     "text": [
      "WARNING:tensorflow:From <ipython-input-14-f62277da6d6a>:1: Model.fit_generator (from tensorflow.python.keras.engine.training) is deprecated and will be removed in a future version.\n",
      "Instructions for updating:\n",
      "Please use Model.fit, which supports generators.\n",
      "Epoch 1/100\n",
      " 2/25 [=>............................] - ETA: 1s - loss: 2.5540 - accuracy: 0.1200WARNING:tensorflow:Callbacks method `on_train_batch_end` is slow compared to the batch time (batch time: 0.0519s vs `on_train_batch_end` time: 0.0873s). Check your callbacks.\n",
      "25/25 [==============================] - 8s 319ms/step - loss: 2.2891 - accuracy: 0.2384\n",
      "Epoch 2/100\n",
      "25/25 [==============================] - 7s 298ms/step - loss: 2.1947 - accuracy: 0.2656\n",
      "Epoch 3/100\n",
      "25/25 [==============================] - 8s 301ms/step - loss: 2.1337 - accuracy: 0.2512\n",
      "Epoch 4/100\n",
      "25/25 [==============================] - 7s 299ms/step - loss: 2.0554 - accuracy: 0.2688\n",
      "Epoch 5/100\n",
      "25/25 [==============================] - 7s 285ms/step - loss: 2.0361 - accuracy: 0.2864\n",
      "Epoch 6/100\n",
      "25/25 [==============================] - 7s 289ms/step - loss: 1.9841 - accuracy: 0.2736\n",
      "Epoch 7/100\n",
      "25/25 [==============================] - 7s 272ms/step - loss: 1.8337 - accuracy: 0.3040\n",
      "Epoch 8/100\n",
      "25/25 [==============================] - 7s 276ms/step - loss: 1.9114 - accuracy: 0.2784\n",
      "Epoch 9/100\n",
      "25/25 [==============================] - 6s 256ms/step - loss: 1.7947 - accuracy: 0.3152\n",
      "Epoch 10/100\n",
      "25/25 [==============================] - 7s 277ms/step - loss: 1.7235 - accuracy: 0.3216\n",
      "Epoch 11/100\n",
      "25/25 [==============================] - 6s 259ms/step - loss: 1.7213 - accuracy: 0.3280\n",
      "Epoch 12/100\n",
      "25/25 [==============================] - 8s 339ms/step - loss: 1.7301 - accuracy: 0.3209\n",
      "Epoch 13/100\n",
      "25/25 [==============================] - 12s 485ms/step - loss: 1.8214 - accuracy: 0.2976\n",
      "Epoch 14/100\n",
      "25/25 [==============================] - 11s 456ms/step - loss: 1.6864 - accuracy: 0.3104\n",
      "Epoch 15/100\n",
      "25/25 [==============================] - 11s 457ms/step - loss: 1.6896 - accuracy: 0.3136\n",
      "Epoch 16/100\n",
      "25/25 [==============================] - 12s 487ms/step - loss: 1.7548 - accuracy: 0.2944\n",
      "Epoch 17/100\n",
      "25/25 [==============================] - 11s 429ms/step - loss: 1.5765 - accuracy: 0.3664\n",
      "Epoch 18/100\n",
      "25/25 [==============================] - 10s 418ms/step - loss: 1.6277 - accuracy: 0.3536\n",
      "Epoch 19/100\n",
      "25/25 [==============================] - 11s 421ms/step - loss: 1.6432 - accuracy: 0.3680\n",
      "Epoch 20/100\n",
      "25/25 [==============================] - 10s 393ms/step - loss: 1.6468 - accuracy: 0.3216\n",
      "Epoch 21/100\n",
      "25/25 [==============================] - 10s 413ms/step - loss: 1.5987 - accuracy: 0.3312\n",
      "Epoch 22/100\n",
      "25/25 [==============================] - 10s 397ms/step - loss: 1.5776 - accuracy: 0.3520\n",
      "Epoch 23/100\n",
      "25/25 [==============================] - 11s 437ms/step - loss: 1.6103 - accuracy: 0.3408\n",
      "Epoch 24/100\n",
      "25/25 [==============================] - 11s 443ms/step - loss: 1.5222 - accuracy: 0.3696\n",
      "Epoch 25/100\n",
      "25/25 [==============================] - 11s 425ms/step - loss: 1.5814 - accuracy: 0.3840\n",
      "Epoch 26/100\n",
      "25/25 [==============================] - 9s 352ms/step - loss: 1.5679 - accuracy: 0.3824\n",
      "Epoch 27/100\n",
      "25/25 [==============================] - 9s 370ms/step - loss: 1.4987 - accuracy: 0.3888\n",
      "Epoch 28/100\n",
      "25/25 [==============================] - 9s 362ms/step - loss: 1.5503 - accuracy: 0.3744\n",
      "Epoch 29/100\n",
      "25/25 [==============================] - 9s 351ms/step - loss: 1.5992 - accuracy: 0.3616\n",
      "Epoch 30/100\n",
      "25/25 [==============================] - 9s 341ms/step - loss: 1.6208 - accuracy: 0.3452\n",
      "Epoch 31/100\n",
      "25/25 [==============================] - 9s 344ms/step - loss: 1.5508 - accuracy: 0.3456\n",
      "Epoch 32/100\n",
      "25/25 [==============================] - 8s 333ms/step - loss: 1.5031 - accuracy: 0.3872\n",
      "Epoch 33/100\n",
      "25/25 [==============================] - 8s 318ms/step - loss: 1.5220 - accuracy: 0.3840\n",
      "Epoch 34/100\n",
      "25/25 [==============================] - 8s 317ms/step - loss: 1.4987 - accuracy: 0.3920\n",
      "Epoch 35/100\n",
      "25/25 [==============================] - 8s 312ms/step - loss: 1.4601 - accuracy: 0.3776\n",
      "Epoch 36/100\n",
      "25/25 [==============================] - 8s 324ms/step - loss: 1.4677 - accuracy: 0.3776\n",
      "Epoch 37/100\n",
      "25/25 [==============================] - 8s 315ms/step - loss: 1.4992 - accuracy: 0.3809\n",
      "Epoch 38/100\n",
      "25/25 [==============================] - 8s 312ms/step - loss: 1.4252 - accuracy: 0.3888\n",
      "Epoch 39/100\n",
      "25/25 [==============================] - 8s 317ms/step - loss: 1.3921 - accuracy: 0.3987\n",
      "Epoch 40/100\n",
      "25/25 [==============================] - 8s 308ms/step - loss: 1.5147 - accuracy: 0.3536\n",
      "Epoch 41/100\n",
      "25/25 [==============================] - 8s 320ms/step - loss: 1.4775 - accuracy: 0.3824\n",
      "Epoch 42/100\n",
      "25/25 [==============================] - 8s 311ms/step - loss: 1.4977 - accuracy: 0.3840\n",
      "Epoch 43/100\n",
      "25/25 [==============================] - 8s 321ms/step - loss: 1.5316 - accuracy: 0.3856\n",
      "Epoch 44/100\n",
      "25/25 [==============================] - 8s 309ms/step - loss: 1.4665 - accuracy: 0.3952\n",
      "Epoch 45/100\n",
      "25/25 [==============================] - 8s 310ms/step - loss: 1.5140 - accuracy: 0.3968\n",
      "Epoch 46/100\n",
      "25/25 [==============================] - 8s 312ms/step - loss: 1.4774 - accuracy: 0.3984\n",
      "Epoch 47/100\n",
      "25/25 [==============================] - 8s 314ms/step - loss: 1.3755 - accuracy: 0.4064\n",
      "Epoch 48/100\n",
      "25/25 [==============================] - 8s 316ms/step - loss: 1.4470 - accuracy: 0.4048\n",
      "Epoch 49/100\n",
      "25/25 [==============================] - 8s 334ms/step - loss: 1.4518 - accuracy: 0.3712\n",
      "Epoch 50/100\n",
      "25/25 [==============================] - 9s 356ms/step - loss: 1.4067 - accuracy: 0.4272\n",
      "Epoch 51/100\n",
      "25/25 [==============================] - 8s 338ms/step - loss: 1.3733 - accuracy: 0.4176\n",
      "Epoch 52/100\n",
      "25/25 [==============================] - 8s 314ms/step - loss: 1.3949 - accuracy: 0.4064\n",
      "Epoch 53/100\n",
      "25/25 [==============================] - 8s 314ms/step - loss: 1.4712 - accuracy: 0.3664\n",
      "Epoch 54/100\n",
      "25/25 [==============================] - 8s 311ms/step - loss: 1.4651 - accuracy: 0.4016\n",
      "Epoch 55/100\n",
      "25/25 [==============================] - 8s 310ms/step - loss: 1.3745 - accuracy: 0.4272\n",
      "Epoch 56/100\n",
      "25/25 [==============================] - 8s 317ms/step - loss: 1.3839 - accuracy: 0.4224\n",
      "Epoch 57/100\n",
      "25/25 [==============================] - 8s 325ms/step - loss: 1.3935 - accuracy: 0.4336\n",
      "Epoch 58/100\n",
      "25/25 [==============================] - 8s 316ms/step - loss: 1.4498 - accuracy: 0.3872\n",
      "Epoch 59/100\n",
      "25/25 [==============================] - 8s 319ms/step - loss: 1.3663 - accuracy: 0.4176\n",
      "Epoch 60/100\n",
      "25/25 [==============================] - 8s 317ms/step - loss: 1.4525 - accuracy: 0.3920\n",
      "Epoch 61/100\n",
      "25/25 [==============================] - 8s 321ms/step - loss: 1.3651 - accuracy: 0.4320\n",
      "Epoch 62/100\n",
      "25/25 [==============================] - 8s 312ms/step - loss: 1.3674 - accuracy: 0.4068\n",
      "Epoch 63/100\n",
      "25/25 [==============================] - 8s 323ms/step - loss: 1.3799 - accuracy: 0.3968\n",
      "Epoch 64/100\n",
      "25/25 [==============================] - 8s 322ms/step - loss: 1.4450 - accuracy: 0.4368\n",
      "Epoch 65/100\n",
      "25/25 [==============================] - 8s 336ms/step - loss: 1.3220 - accuracy: 0.4784\n",
      "Epoch 66/100\n",
      "25/25 [==============================] - 9s 346ms/step - loss: 1.3197 - accuracy: 0.4576\n",
      "Epoch 67/100\n",
      "25/25 [==============================] - 8s 326ms/step - loss: 1.3517 - accuracy: 0.4272\n",
      "Epoch 68/100\n",
      "25/25 [==============================] - 8s 310ms/step - loss: 1.2616 - accuracy: 0.4256\n",
      "Epoch 69/100\n",
      "25/25 [==============================] - 8s 318ms/step - loss: 1.3415 - accuracy: 0.4272\n",
      "Epoch 70/100\n",
      "25/25 [==============================] - 8s 318ms/step - loss: 1.4015 - accuracy: 0.3952\n",
      "Epoch 71/100\n",
      "25/25 [==============================] - 8s 323ms/step - loss: 1.3983 - accuracy: 0.4128\n",
      "Epoch 72/100\n",
      "25/25 [==============================] - 8s 311ms/step - loss: 1.3557 - accuracy: 0.4408\n",
      "Epoch 73/100\n",
      "25/25 [==============================] - 8s 312ms/step - loss: 1.2931 - accuracy: 0.4768\n",
      "Epoch 74/100\n",
      "25/25 [==============================] - 8s 325ms/step - loss: 1.3056 - accuracy: 0.4368\n",
      "Epoch 75/100\n",
      "25/25 [==============================] - 8s 319ms/step - loss: 1.3612 - accuracy: 0.4176\n",
      "Epoch 76/100\n"
     ]
    },
    {
     "name": "stdout",
     "output_type": "stream",
     "text": [
      "25/25 [==============================] - 8s 308ms/step - loss: 1.4077 - accuracy: 0.4032\n",
      "Epoch 77/100\n",
      "25/25 [==============================] - 8s 304ms/step - loss: 1.3501 - accuracy: 0.4344\n",
      "Epoch 78/100\n",
      "25/25 [==============================] - 8s 322ms/step - loss: 1.2621 - accuracy: 0.4672\n",
      "Epoch 79/100\n",
      "25/25 [==============================] - 8s 311ms/step - loss: 1.3071 - accuracy: 0.4416\n",
      "Epoch 80/100\n",
      "25/25 [==============================] - 8s 316ms/step - loss: 1.3219 - accuracy: 0.4489\n",
      "Epoch 81/100\n",
      "25/25 [==============================] - 8s 312ms/step - loss: 1.2342 - accuracy: 0.4765\n",
      "Epoch 82/100\n",
      "25/25 [==============================] - 8s 317ms/step - loss: 1.3067 - accuracy: 0.4384\n",
      "Epoch 83/100\n",
      "25/25 [==============================] - 8s 317ms/step - loss: 1.3391 - accuracy: 0.4000\n",
      "Epoch 84/100\n",
      "25/25 [==============================] - 8s 306ms/step - loss: 1.2521 - accuracy: 0.4688\n",
      "Epoch 85/100\n",
      "25/25 [==============================] - 8s 325ms/step - loss: 1.3275 - accuracy: 0.4512\n",
      "Epoch 86/100\n",
      "25/25 [==============================] - 8s 328ms/step - loss: 1.2864 - accuracy: 0.4496\n",
      "Epoch 87/100\n",
      "25/25 [==============================] - 8s 311ms/step - loss: 1.2393 - accuracy: 0.4768\n",
      "Epoch 88/100\n",
      "25/25 [==============================] - 8s 305ms/step - loss: 1.2890 - accuracy: 0.4512\n",
      "Epoch 89/100\n",
      "25/25 [==============================] - 8s 311ms/step - loss: 1.3543 - accuracy: 0.4311\n",
      "Epoch 90/100\n",
      "25/25 [==============================] - 8s 315ms/step - loss: 1.2702 - accuracy: 0.4635\n",
      "Epoch 91/100\n",
      "25/25 [==============================] - 8s 317ms/step - loss: 1.3380 - accuracy: 0.4272\n",
      "Epoch 92/100\n",
      "25/25 [==============================] - 8s 319ms/step - loss: 1.3335 - accuracy: 0.4384\n",
      "Epoch 93/100\n",
      "25/25 [==============================] - 8s 315ms/step - loss: 1.2626 - accuracy: 0.4688\n",
      "Epoch 94/100\n",
      "25/25 [==============================] - 8s 312ms/step - loss: 1.3196 - accuracy: 0.4752\n",
      "Epoch 95/100\n",
      "25/25 [==============================] - 8s 312ms/step - loss: 1.3035 - accuracy: 0.4544\n",
      "Epoch 96/100\n",
      "25/25 [==============================] - 8s 312ms/step - loss: 1.3132 - accuracy: 0.4304\n",
      "Epoch 97/100\n",
      "25/25 [==============================] - 8s 306ms/step - loss: 1.2530 - accuracy: 0.4688\n",
      "Epoch 98/100\n",
      "25/25 [==============================] - 8s 311ms/step - loss: 1.2125 - accuracy: 0.4816\n",
      "Epoch 99/100\n",
      "25/25 [==============================] - 8s 307ms/step - loss: 1.2385 - accuracy: 0.4832\n",
      "Epoch 100/100\n",
      "25/25 [==============================] - 8s 310ms/step - loss: 1.2477 - accuracy: 0.4848\n"
     ]
    },
    {
     "data": {
      "text/plain": [
       "<tensorflow.python.keras.callbacks.History at 0x1adf3f5b708>"
      ]
     },
     "execution_count": 14,
     "metadata": {},
     "output_type": "execute_result"
    }
   ],
   "source": [
    "model.fit_generator(train_batches, steps_per_epoch=25, epochs=100, verbose=1)"
   ]
  },
  {
   "cell_type": "code",
   "execution_count": 15,
   "metadata": {},
   "outputs": [
    {
     "name": "stdout",
     "output_type": "stream",
     "text": [
      "Saved model to disk\n"
     ]
    }
   ],
   "source": [
    "model.save(\"model_Sunglass_25_batch.h5\")\n",
    "print(\"Saved model to disk\")"
   ]
  },
  {
   "cell_type": "code",
   "execution_count": null,
   "metadata": {},
   "outputs": [],
   "source": []
  }
 ],
 "metadata": {
  "kernelspec": {
   "display_name": "Python 3.7 GPU",
   "language": "python",
   "name": "tensorflow"
  },
  "language_info": {
   "codemirror_mode": {
    "name": "ipython",
    "version": 3
   },
   "file_extension": ".py",
   "mimetype": "text/x-python",
   "name": "python",
   "nbconvert_exporter": "python",
   "pygments_lexer": "ipython3",
   "version": "3.7.7"
  }
 },
 "nbformat": 4,
 "nbformat_minor": 4
}
