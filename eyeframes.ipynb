{
 "cells": [
  {
   "cell_type": "code",
   "execution_count": 2,
   "metadata": {},
   "outputs": [],
   "source": [
    "import os, random, shutil\n",
    "import numpy as np\n",
    "import pandas as pd\n",
    "import PIL\n",
    "#import keras\n",
    "import itertools\n",
    "from PIL import Image\n",
    "\n",
    "import tensorflow as tf\n",
    "\n",
    "from sklearn.utils import shuffle\n",
    "from sklearn.model_selection import train_test_split\n",
    "from sklearn import preprocessing\n",
    "#from skimage import feature, data, io, measure\n",
    "from sklearn.metrics import confusion_matrix\n",
    "\n",
    "import matplotlib.pyplot as plt\n",
    "from matplotlib import ticker\n",
    "import seaborn as sns\n",
    "%matplotlib inline \n",
    "from tqdm import tqdm\n",
    "import cv2\n",
    "from tensorflow.keras import backend as K\n",
    "from tensorflow.keras.models import Model\n",
    "from tensorflow.keras.models import Sequential\n",
    "from tensorflow.keras.layers import Input, Dropout, Flatten, Conv2D, MaxPooling2D, Dense, Activation\n",
    "from tensorflow.keras.optimizers import RMSprop, Adam\n",
    "from tensorflow.keras.layers import BatchNormalization\n",
    "#from keras.callbacks import ModelCheckpoint, Callback, EarlyStopping\n",
    "from keras.utils import np_utils\n",
    "from tensorflow.keras.preprocessing.image import ImageDataGenerator, array_to_img, img_to_array, load_img\n",
    "from tensorflow.keras.callbacks import TensorBoard\n",
    "import io\n",
    "import time\n",
    "import datetime\n",
    "from tensorflow.keras.optimizers import Adam,Adadelta\n",
    "from tensorflow.keras.preprocessing.image import ImageDataGenerator\n",
    "import urllib\n",
    "\n",
    "from tensorflow.compat.v1 import ConfigProto\n",
    "from tensorflow.compat.v1 import InteractiveSession"
   ]
  },
  {
   "cell_type": "markdown",
   "metadata": {},
   "source": [
    "## Model building"
   ]
  },
  {
   "cell_type": "code",
   "execution_count": 3,
   "metadata": {},
   "outputs": [],
   "source": [
    "batch_size_train = 15\n",
    "num_classes= 4\n",
    "IMAGE_SIZE=[200,200]\n",
    "classes_required = ['Aviator','Oval','Rectangle','Wayfarer']"
   ]
  },
  {
   "cell_type": "code",
   "execution_count": 4,
   "metadata": {},
   "outputs": [],
   "source": [
    "datagen = ImageDataGenerator(rescale=1.0/255.0,\n",
    "                             #shear_range = 0.2,\n",
    "                             #zoom_range = 0.2\n",
    "                            )"
   ]
  },
  {
   "cell_type": "code",
   "execution_count": 5,
   "metadata": {},
   "outputs": [
    {
     "name": "stdout",
     "output_type": "stream",
     "text": [
      "Found 6743 images belonging to 4 classes.\n"
     ]
    },
    {
     "data": {
      "text/plain": [
       "tensorflow.python.keras.preprocessing.image.DirectoryIterator"
      ]
     },
     "execution_count": 5,
     "metadata": {},
     "output_type": "execute_result"
    }
   ],
   "source": [
    "#Input the Training Data\n",
    "\n",
    "train_path = 'D:/My ML Projects/lenskart task/sub-train/eyeframe'\n",
    "train_batches = datagen.flow_from_directory(train_path, target_size=(200,200), classes=classes_required, batch_size=batch_size_train)\n",
    "type(train_batches)"
   ]
  },
  {
   "cell_type": "code",
   "execution_count": 5,
   "metadata": {},
   "outputs": [
    {
     "name": "stdout",
     "output_type": "stream",
     "text": [
      "Batch shape=(15, 200, 200, 3), min=0.000, max=1.000\n"
     ]
    }
   ],
   "source": [
    "batchX, batchy = train_batches.next()\n",
    "print('Batch shape=%s, min=%.3f, max=%.3f' % (batchX.shape, batchX.min(), batchX.max()))"
   ]
  },
  {
   "cell_type": "code",
   "execution_count": null,
   "metadata": {},
   "outputs": [],
   "source": [
    "train_imgs, train_labels = next(train_batches)"
   ]
  },
  {
   "cell_type": "code",
   "execution_count": null,
   "metadata": {},
   "outputs": [],
   "source": [
    "train_imgs.shape"
   ]
  },
  {
   "cell_type": "code",
   "execution_count": 6,
   "metadata": {},
   "outputs": [],
   "source": [
    "config = tf.compat.v1.ConfigProto( device_count = {'GPU': 1 , 'CPU': 64} ) \n",
    "sess = tf.compat.v1.Session(config=config) \n",
    "#keras.backend.set_session(sess)\n",
    "tf.compat.v1.keras.backend.set_session(\n",
    "    sess\n",
    ")\n",
    "gpu_options = tf.compat.v1.GPUOptions(allow_growth=True, per_process_gpu_memory_fraction=0.333)\n",
    "session = tf.compat.v1.InteractiveSession(config=tf.compat.v1.ConfigProto(gpu_options=gpu_options))"
   ]
  },
  {
   "cell_type": "code",
   "execution_count": 6,
   "metadata": {},
   "outputs": [],
   "source": [
    "config = ConfigProto()\n",
    "config.gpu_options.allow_growth = True\n",
    "session = InteractiveSession(config=config)"
   ]
  },
  {
   "cell_type": "markdown",
   "metadata": {},
   "source": [
    "### Model Architecture"
   ]
  },
  {
   "cell_type": "code",
   "execution_count": 7,
   "metadata": {},
   "outputs": [],
   "source": [
    "model=Sequential()\n",
    "model.add(Conv2D(16,kernel_size=(3,3), activation=\"relu\" ,input_shape=IMAGE_SIZE + [3], padding='same'))\n",
    "\n",
    "model.add(Conv2D(32, kernel_size=(3,3), activation=\"relu\",padding='same'))\n",
    "model.add(BatchNormalization()) \n",
    "model.add(MaxPooling2D(pool_size=(2,2)))\n",
    "model.add(Dropout(0.30))\n",
    "\n",
    "model.add(Conv2D(64, kernel_size=(3,3), activation=\"relu\",padding='same'))\n",
    "#model.add(BatchNormalization()) \n",
    "model.add(MaxPooling2D(pool_size=(2,2)))\n",
    "model.add(Dropout(0.35))\n",
    "\n",
    "model.add(Conv2D(128, kernel_size=(3,3), activation=\"relu\",padding='same'))\n",
    "#model.add(MaxPooling2D(pool_size=(2,2)))\n",
    "model.add(BatchNormalization()) \n",
    "model.add(Dropout(0.45))\n",
    "\n",
    "model.add(Flatten())\n",
    "model.add(Dense(64, activation=\"relu\"))\n",
    "model.add(Dense(num_classes, activation=\"softmax\"))"
   ]
  },
  {
   "cell_type": "code",
   "execution_count": null,
   "metadata": {},
   "outputs": [],
   "source": [
    "model.summary()"
   ]
  },
  {
   "cell_type": "code",
   "execution_count": 8,
   "metadata": {},
   "outputs": [],
   "source": [
    "# Complie the model\n",
    "opt = Adadelta(learning_rate=0.0001, decay=1e-6)\n",
    "model.compile(optimizer=opt, loss='categorical_crossentropy', metrics=['accuracy'])"
   ]
  },
  {
   "cell_type": "code",
   "execution_count": 9,
   "metadata": {},
   "outputs": [
    {
     "name": "stdout",
     "output_type": "stream",
     "text": [
      "WARNING:tensorflow:From <ipython-input-9-f62277da6d6a>:1: Model.fit_generator (from tensorflow.python.keras.engine.training) is deprecated and will be removed in a future version.\n",
      "Instructions for updating:\n",
      "Please use Model.fit, which supports generators.\n",
      "Epoch 1/100\n",
      " 2/25 [=>............................] - ETA: 1s - loss: 2.0123 - accuracy: 0.3667WARNING:tensorflow:Callbacks method `on_train_batch_end` is slow compared to the batch time (batch time: 0.0359s vs `on_train_batch_end` time: 0.0574s). Check your callbacks.\n",
      "25/25 [==============================] - 9s 378ms/step - loss: 2.4443 - accuracy: 0.2773\n",
      "Epoch 2/100\n",
      "25/25 [==============================] - 11s 437ms/step - loss: 2.5449 - accuracy: 0.2480\n",
      "Epoch 3/100\n",
      "25/25 [==============================] - 10s 389ms/step - loss: 2.4794 - accuracy: 0.2747\n",
      "Epoch 4/100\n",
      "25/25 [==============================] - 10s 396ms/step - loss: 2.4850 - accuracy: 0.2613\n",
      "Epoch 5/100\n",
      "25/25 [==============================] - 10s 387ms/step - loss: 2.3521 - accuracy: 0.2935\n",
      "Epoch 6/100\n",
      "25/25 [==============================] - 11s 447ms/step - loss: 2.2821 - accuracy: 0.2800\n",
      "Epoch 7/100\n",
      "25/25 [==============================] - 10s 400ms/step - loss: 2.1763 - accuracy: 0.2907\n",
      "Epoch 8/100\n",
      "25/25 [==============================] - 10s 391ms/step - loss: 2.2614 - accuracy: 0.2907\n",
      "Epoch 9/100\n",
      "25/25 [==============================] - 10s 413ms/step - loss: 2.0396 - accuracy: 0.3467\n",
      "Epoch 10/100\n",
      "25/25 [==============================] - 10s 397ms/step - loss: 2.1729 - accuracy: 0.2507\n",
      "Epoch 11/100\n",
      "25/25 [==============================] - 11s 437ms/step - loss: 2.1382 - accuracy: 0.3333\n",
      "Epoch 12/100\n",
      "25/25 [==============================] - 9s 379ms/step - loss: 2.1884 - accuracy: 0.3200\n",
      "Epoch 13/100\n",
      "25/25 [==============================] - 11s 440ms/step - loss: 1.9695 - accuracy: 0.3520\n",
      "Epoch 14/100\n",
      "25/25 [==============================] - 10s 381ms/step - loss: 1.9675 - accuracy: 0.3227\n",
      "Epoch 15/100\n",
      "25/25 [==============================] - 11s 437ms/step - loss: 2.0121 - accuracy: 0.3467\n",
      "Epoch 16/100\n",
      "25/25 [==============================] - 10s 399ms/step - loss: 1.8502 - accuracy: 0.3253\n",
      "Epoch 17/100\n",
      "25/25 [==============================] - 10s 414ms/step - loss: 1.9892 - accuracy: 0.3733\n",
      "Epoch 18/100\n",
      "25/25 [==============================] - 8s 338ms/step - loss: 1.8936 - accuracy: 0.3360\n",
      "Epoch 19/100\n",
      "25/25 [==============================] - 9s 377ms/step - loss: 1.8895 - accuracy: 0.3467\n",
      "Epoch 20/100\n",
      "25/25 [==============================] - 10s 388ms/step - loss: 1.8433 - accuracy: 0.3680\n",
      "Epoch 21/100\n",
      "25/25 [==============================] - 11s 421ms/step - loss: 1.9985 - accuracy: 0.3360\n",
      "Epoch 22/100\n",
      "25/25 [==============================] - 9s 370ms/step - loss: 1.7586 - accuracy: 0.3787\n",
      "Epoch 23/100\n",
      "25/25 [==============================] - 11s 421ms/step - loss: 1.7325 - accuracy: 0.3920\n",
      "Epoch 24/100\n",
      "25/25 [==============================] - 10s 409ms/step - loss: 1.7030 - accuracy: 0.3653\n",
      "Epoch 25/100\n",
      "25/25 [==============================] - 10s 416ms/step - loss: 1.8851 - accuracy: 0.3867\n",
      "Epoch 26/100\n",
      "25/25 [==============================] - 10s 396ms/step - loss: 1.8399 - accuracy: 0.3733\n",
      "Epoch 27/100\n",
      "25/25 [==============================] - 9s 362ms/step - loss: 1.7672 - accuracy: 0.3840\n",
      "Epoch 28/100\n",
      "25/25 [==============================] - 10s 396ms/step - loss: 1.7037 - accuracy: 0.4000\n",
      "Epoch 29/100\n",
      "25/25 [==============================] - 10s 399ms/step - loss: 1.6509 - accuracy: 0.3733\n",
      "Epoch 30/100\n",
      "25/25 [==============================] - 9s 371ms/step - loss: 1.7231 - accuracy: 0.3920\n",
      "Epoch 31/100\n",
      "25/25 [==============================] - 8s 325ms/step - loss: 1.6654 - accuracy: 0.4240\n",
      "Epoch 32/100\n",
      "25/25 [==============================] - 10s 396ms/step - loss: 1.5820 - accuracy: 0.4373\n",
      "Epoch 33/100\n",
      "25/25 [==============================] - 10s 399ms/step - loss: 1.7519 - accuracy: 0.4267\n",
      "Epoch 34/100\n",
      "25/25 [==============================] - 9s 351ms/step - loss: 1.5655 - accuracy: 0.4667\n",
      "Epoch 35/100\n",
      "25/25 [==============================] - 10s 417ms/step - loss: 1.6485 - accuracy: 0.4027\n",
      "Epoch 36/100\n",
      "25/25 [==============================] - 9s 351ms/step - loss: 1.6819 - accuracy: 0.4027\n",
      "Epoch 37/100\n",
      "25/25 [==============================] - 8s 327ms/step - loss: 1.5572 - accuracy: 0.4427\n",
      "Epoch 38/100\n",
      "25/25 [==============================] - 10s 402ms/step - loss: 1.5578 - accuracy: 0.4347\n",
      "Epoch 39/100\n",
      "25/25 [==============================] - 10s 383ms/step - loss: 1.6761 - accuracy: 0.4053\n",
      "Epoch 40/100\n",
      "25/25 [==============================] - 9s 362ms/step - loss: 1.5550 - accuracy: 0.4560\n",
      "Epoch 41/100\n",
      "25/25 [==============================] - 9s 379ms/step - loss: 1.6184 - accuracy: 0.3947\n",
      "Epoch 42/100\n",
      "25/25 [==============================] - 10s 415ms/step - loss: 1.6504 - accuracy: 0.3973\n",
      "Epoch 43/100\n",
      "25/25 [==============================] - 9s 357ms/step - loss: 1.5260 - accuracy: 0.4213\n",
      "Epoch 44/100\n",
      "25/25 [==============================] - 9s 351ms/step - loss: 1.6381 - accuracy: 0.3813\n",
      "Epoch 45/100\n",
      "25/25 [==============================] - 11s 420ms/step - loss: 1.6204 - accuracy: 0.4027\n",
      "Epoch 46/100\n",
      "25/25 [==============================] - 8s 310ms/step - loss: 1.5855 - accuracy: 0.4080\n",
      "Epoch 47/100\n",
      "25/25 [==============================] - 10s 385ms/step - loss: 1.5482 - accuracy: 0.4453\n",
      "Epoch 48/100\n",
      "25/25 [==============================] - 10s 414ms/step - loss: 1.5032 - accuracy: 0.4373\n",
      "Epoch 49/100\n",
      "25/25 [==============================] - 9s 352ms/step - loss: 1.6903 - accuracy: 0.4027\n",
      "Epoch 50/100\n",
      "25/25 [==============================] - 10s 397ms/step - loss: 1.5320 - accuracy: 0.4453\n",
      "Epoch 51/100\n",
      "25/25 [==============================] - 10s 386ms/step - loss: 1.4717 - accuracy: 0.4507\n",
      "Epoch 52/100\n",
      "25/25 [==============================] - 10s 386ms/step - loss: 1.5069 - accuracy: 0.4240\n",
      "Epoch 53/100\n",
      "25/25 [==============================] - 9s 377ms/step - loss: 1.5311 - accuracy: 0.4533\n",
      "Epoch 54/100\n",
      "25/25 [==============================] - 8s 314ms/step - loss: 1.4810 - accuracy: 0.4613\n",
      "Epoch 55/100\n",
      "25/25 [==============================] - 8s 303ms/step - loss: 1.5581 - accuracy: 0.4347\n",
      "Epoch 56/100\n",
      "25/25 [==============================] - 9s 342ms/step - loss: 1.5391 - accuracy: 0.4613\n",
      "Epoch 57/100\n",
      "25/25 [==============================] - 9s 358ms/step - loss: 1.4074 - accuracy: 0.4560\n",
      "Epoch 58/100\n",
      "25/25 [==============================] - 8s 335ms/step - loss: 1.5238 - accuracy: 0.4427\n",
      "Epoch 59/100\n",
      "25/25 [==============================] - 8s 317ms/step - loss: 1.4655 - accuracy: 0.4747\n",
      "Epoch 60/100\n",
      "25/25 [==============================] - 9s 349ms/step - loss: 1.4819 - accuracy: 0.4613\n",
      "Epoch 61/100\n",
      "25/25 [==============================] - 10s 419ms/step - loss: 1.5406 - accuracy: 0.4347\n",
      "Epoch 62/100\n",
      "25/25 [==============================] - 9s 370ms/step - loss: 1.5252 - accuracy: 0.4613\n",
      "Epoch 63/100\n",
      "25/25 [==============================] - 11s 421ms/step - loss: 1.6817 - accuracy: 0.4080\n",
      "Epoch 64/100\n",
      "25/25 [==============================] - 8s 338ms/step - loss: 1.4687 - accuracy: 0.4427\n",
      "Epoch 65/100\n",
      "25/25 [==============================] - 9s 344ms/step - loss: 1.5215 - accuracy: 0.4533\n",
      "Epoch 66/100\n",
      "25/25 [==============================] - 9s 375ms/step - loss: 1.4354 - accuracy: 0.4640\n",
      "Epoch 67/100\n",
      "25/25 [==============================] - 7s 300ms/step - loss: 1.4963 - accuracy: 0.4453\n",
      "Epoch 68/100\n",
      "25/25 [==============================] - 8s 333ms/step - loss: 1.4805 - accuracy: 0.4400\n",
      "Epoch 69/100\n",
      "25/25 [==============================] - 10s 392ms/step - loss: 1.5615 - accuracy: 0.4347\n",
      "Epoch 70/100\n",
      "25/25 [==============================] - 7s 289ms/step - loss: 1.4821 - accuracy: 0.4402\n",
      "Epoch 71/100\n",
      "25/25 [==============================] - 11s 446ms/step - loss: 1.4655 - accuracy: 0.4427\n",
      "Epoch 72/100\n",
      "25/25 [==============================] - 7s 285ms/step - loss: 1.3841 - accuracy: 0.4620\n",
      "Epoch 73/100\n",
      "25/25 [==============================] - 9s 370ms/step - loss: 1.4016 - accuracy: 0.4667\n",
      "Epoch 74/100\n",
      "25/25 [==============================] - 9s 373ms/step - loss: 1.3481 - accuracy: 0.5120\n",
      "Epoch 75/100\n",
      "25/25 [==============================] - 9s 362ms/step - loss: 1.5396 - accuracy: 0.4160\n"
     ]
    },
    {
     "name": "stdout",
     "output_type": "stream",
     "text": [
      "Epoch 76/100\n",
      "25/25 [==============================] - 9s 357ms/step - loss: 1.3280 - accuracy: 0.5093\n",
      "Epoch 77/100\n",
      "25/25 [==============================] - 10s 392ms/step - loss: 1.4042 - accuracy: 0.4693\n",
      "Epoch 78/100\n",
      "25/25 [==============================] - 9s 373ms/step - loss: 1.3756 - accuracy: 0.4800\n",
      "Epoch 79/100\n",
      "25/25 [==============================] - 8s 317ms/step - loss: 1.3331 - accuracy: 0.4720\n",
      "Epoch 80/100\n",
      "25/25 [==============================] - 9s 368ms/step - loss: 1.4512 - accuracy: 0.4720\n",
      "Epoch 81/100\n",
      "25/25 [==============================] - 8s 315ms/step - loss: 1.5021 - accuracy: 0.4240\n",
      "Epoch 82/100\n",
      "25/25 [==============================] - 9s 367ms/step - loss: 1.3758 - accuracy: 0.5253\n",
      "Epoch 83/100\n",
      "25/25 [==============================] - 9s 353ms/step - loss: 1.4165 - accuracy: 0.4864\n",
      "Epoch 84/100\n",
      "25/25 [==============================] - 9s 351ms/step - loss: 1.4085 - accuracy: 0.4587\n",
      "Epoch 85/100\n",
      "25/25 [==============================] - 11s 448ms/step - loss: 1.4614 - accuracy: 0.4453\n",
      "Epoch 86/100\n",
      "25/25 [==============================] - 9s 345ms/step - loss: 1.4775 - accuracy: 0.4613\n",
      "Epoch 87/100\n",
      "25/25 [==============================] - 8s 318ms/step - loss: 1.4210 - accuracy: 0.4560\n",
      "Epoch 88/100\n",
      "25/25 [==============================] - 10s 392ms/step - loss: 1.3171 - accuracy: 0.4613\n",
      "Epoch 89/100\n",
      "25/25 [==============================] - 10s 406ms/step - loss: 1.4108 - accuracy: 0.4720\n",
      "Epoch 90/100\n",
      "25/25 [==============================] - 9s 346ms/step - loss: 1.2833 - accuracy: 0.5040\n",
      "Epoch 91/100\n",
      "25/25 [==============================] - 12s 487ms/step - loss: 1.4184 - accuracy: 0.4800\n",
      "Epoch 92/100\n",
      "25/25 [==============================] - 9s 378ms/step - loss: 1.3877 - accuracy: 0.4987\n",
      "Epoch 93/100\n",
      "25/25 [==============================] - 10s 410ms/step - loss: 1.5258 - accuracy: 0.4560\n",
      "Epoch 94/100\n",
      "25/25 [==============================] - 11s 428ms/step - loss: 1.4395 - accuracy: 0.4720\n",
      "Epoch 95/100\n",
      "25/25 [==============================] - 11s 431ms/step - loss: 1.4017 - accuracy: 0.5120\n",
      "Epoch 96/100\n",
      "25/25 [==============================] - 9s 350ms/step - loss: 1.4005 - accuracy: 0.4853\n",
      "Epoch 97/100\n",
      "25/25 [==============================] - 9s 366ms/step - loss: 1.3889 - accuracy: 0.4907\n",
      "Epoch 98/100\n",
      "25/25 [==============================] - 12s 463ms/step - loss: 1.4645 - accuracy: 0.4507\n",
      "Epoch 99/100\n",
      "25/25 [==============================] - 10s 382ms/step - loss: 1.3568 - accuracy: 0.5040\n",
      "Epoch 100/100\n",
      "25/25 [==============================] - 11s 437ms/step - loss: 1.2559 - accuracy: 0.5067\n"
     ]
    },
    {
     "data": {
      "text/plain": [
       "<tensorflow.python.keras.callbacks.History at 0x1e81068fbc8>"
      ]
     },
     "execution_count": 9,
     "metadata": {},
     "output_type": "execute_result"
    }
   ],
   "source": [
    "model.fit_generator(train_batches, steps_per_epoch=25, epochs=100, verbose=1)"
   ]
  },
  {
   "cell_type": "code",
   "execution_count": 10,
   "metadata": {},
   "outputs": [
    {
     "name": "stdout",
     "output_type": "stream",
     "text": [
      "Saved model to disk\n"
     ]
    }
   ],
   "source": [
    "model.save(\"model_eyeframes_25_batch.h5\")\n",
    "print(\"Saved model to disk\")"
   ]
  },
  {
   "cell_type": "code",
   "execution_count": null,
   "metadata": {},
   "outputs": [],
   "source": []
  }
 ],
 "metadata": {
  "kernelspec": {
   "display_name": "Python 3.7 GPU",
   "language": "python",
   "name": "tensorflow"
  },
  "language_info": {
   "codemirror_mode": {
    "name": "ipython",
    "version": 3
   },
   "file_extension": ".py",
   "mimetype": "text/x-python",
   "name": "python",
   "nbconvert_exporter": "python",
   "pygments_lexer": "ipython3",
   "version": "3.7.7"
  }
 },
 "nbformat": 4,
 "nbformat_minor": 4
}
