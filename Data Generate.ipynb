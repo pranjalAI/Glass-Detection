{
 "cells": [
  {
   "cell_type": "code",
   "execution_count": 22,
   "metadata": {},
   "outputs": [],
   "source": [
    "import os\n",
    "import numpy as np\n",
    "import cv2\n",
    "import argparse\n",
    "import time"
   ]
  },
  {
   "cell_type": "code",
   "execution_count": 23,
   "metadata": {},
   "outputs": [],
   "source": [
    "from tqdm import tqdm"
   ]
  },
  {
   "cell_type": "code",
   "execution_count": 4,
   "metadata": {},
   "outputs": [],
   "source": [
    "#for renaming\n",
    "#for filename in os.listdir():\n",
    "#    file =filename.split(\".\")\n",
    "#    if(file[-1]==\"txt\"):\n",
    "#        new_list=[]\n",
    "#        #print(filename)\n",
    "#        with open(filename, \"r+\") as f:\n",
    "#            old = f.read()\n",
    "#            old=old.split(\"\\n\")\n",
    "#            for i in old:\n",
    "#                i=i.split(\" \")\n",
    "#                i[0]='2'\n",
    "#                new_list.append(\" \".join(i))\n",
    "#        with open(filename, \"w\") as f:\n",
    "#            f.write(\"\\n\".join(new_list))"
   ]
  },
  {
   "cell_type": "markdown",
   "metadata": {},
   "source": [
    "# Data Augmentation"
   ]
  },
  {
   "cell_type": "code",
   "execution_count": 24,
   "metadata": {},
   "outputs": [],
   "source": [
    "#convert from Yolo_mark to opencv format\n",
    "def yoloFormattocv(x1, y1, x2, y2, H, W):\n",
    "    bbox_width = x2 * W\n",
    "    bbox_height = y2 * H\n",
    "    center_x = x1 * W\n",
    "    center_y = y1 * H\n",
    "\n",
    "    voc = []\n",
    "\n",
    "    voc.append(center_x - (bbox_width / 2))\n",
    "    voc.append(center_y - (bbox_height / 2))\n",
    "    voc.append(center_x + (bbox_width / 2))\n",
    "    voc.append(center_y + (bbox_height / 2))\n",
    "\n",
    "    return [int(v) for v in voc]"
   ]
  },
  {
   "cell_type": "code",
   "execution_count": 25,
   "metadata": {},
   "outputs": [],
   "source": [
    "# convert from opencv format to yolo format\n",
    "# H,W is the image height and width\n",
    "def cvFormattoYolo(corner, H, W):\n",
    "    bbox_W = corner[3] - corner[1]\n",
    "    bbox_H = corner[4] - corner[2]\n",
    "\n",
    "    center_bbox_x = (corner[1] + corner[3]) / 2\n",
    "    center_bbox_y = (corner[2] + corner[4]) / 2\n",
    "\n",
    "    return corner[0], round(center_bbox_x / W, 6), round(center_bbox_y / H, 6), round(bbox_W / W, 6), round(bbox_H / H, 6)"
   ]
  },
  {
   "cell_type": "code",
   "execution_count": 26,
   "metadata": {},
   "outputs": [],
   "source": [
    "class yoloRotatebbox:\n",
    "    def __init__(self, filename, image_ext, angle):\n",
    "        assert os.path.isfile(filename + image_ext)\n",
    "        assert os.path.isfile(filename + '.txt')\n",
    "        \n",
    "\n",
    "        self.filename = filename\n",
    "        self.image_ext = image_ext\n",
    "        self.angle = angle\n",
    "        \n",
    "        # Read image using cv2\n",
    "        self.image = cv2.imread(self.filename + self.image_ext, 1)\n",
    "        \n",
    "        rotation_angle = self.angle * np.pi / 180\n",
    "        self.rot_matrix = np.array(\n",
    "            [[np.cos(rotation_angle), -np.sin(rotation_angle)], [np.sin(rotation_angle), np.cos(rotation_angle)]])\n",
    "\n",
    "    def rotateYolobbox(self):\n",
    "\n",
    "        new_height, new_width = self.rotate_image().shape[:2]\n",
    "\n",
    "        f = open(self.filename + '.txt', 'r')\n",
    "\n",
    "        f1 = f.readlines()\n",
    "\n",
    "        new_bbox = []\n",
    "\n",
    "        H, W = self.image.shape[:2]\n",
    "\n",
    "        for x in f1:\n",
    "            bbox = x.strip('\\n').split(' ')\n",
    "            if len(bbox) > 1:\n",
    "                (center_x, center_y, bbox_width, bbox_height) = yoloFormattocv(float(bbox[1]), float(bbox[2]),\n",
    "                                                                               float(bbox[3]), float(bbox[4]), H, W)\n",
    "\n",
    "                upper_left_corner_shift = (center_x - W / 2, -H / 2 + center_y)\n",
    "                upper_right_corner_shift = (bbox_width - W / 2, -H / 2 + center_y)\n",
    "                lower_left_corner_shift = (center_x - W / 2, -H / 2 + bbox_height)\n",
    "                lower_right_corner_shift = (bbox_width - W / 2, -H / 2 + bbox_height)\n",
    "\n",
    "                new_lower_right_corner = [-1, -1]\n",
    "                new_upper_left_corner = []\n",
    "\n",
    "                for i in (upper_left_corner_shift, upper_right_corner_shift, lower_left_corner_shift,\n",
    "                          lower_right_corner_shift):\n",
    "                    new_coords = np.matmul(self.rot_matrix, np.array((i[0], -i[1])))\n",
    "                    x_prime, y_prime = new_width / 2 + new_coords[0], new_height / 2 - new_coords[1]\n",
    "                    if new_lower_right_corner[0] < x_prime:\n",
    "                        new_lower_right_corner[0] = x_prime\n",
    "                    if new_lower_right_corner[1] < y_prime:\n",
    "                        new_lower_right_corner[1] = y_prime\n",
    "\n",
    "                    if len(new_upper_left_corner) > 0:\n",
    "                        if new_upper_left_corner[0] > x_prime:\n",
    "                            new_upper_left_corner[0] = x_prime\n",
    "                        if new_upper_left_corner[1] > y_prime:\n",
    "                            new_upper_left_corner[1] = y_prime\n",
    "                    else:\n",
    "                        new_upper_left_corner.append(x_prime)\n",
    "                        new_upper_left_corner.append(y_prime)\n",
    "                #             print(x_prime, y_prime)\n",
    "\n",
    "                new_bbox.append([bbox[0], new_upper_left_corner[0], new_upper_left_corner[1],\n",
    "                                 new_lower_right_corner[0], new_lower_right_corner[1]])\n",
    "        return new_bbox\n",
    "\n",
    "    def rotate_image(self):\n",
    "        \"\"\"\n",
    "        Rotates an image (angle in degrees) and expands image to avoid cropping\n",
    "        \"\"\"\n",
    "        height, width = self.image.shape[:2]  # image shape has 3 dimensions\n",
    "        image_center = (width / 2,\n",
    "                        height / 2)  # getRotationMatrix2D needs coordinates in reverse order (width, height) compared to shape\n",
    "\n",
    "        rotation_mat = cv2.getRotationMatrix2D(image_center, self.angle, 1.)\n",
    "\n",
    "        # rotation calculates the cos and sin, taking absolutes of those.\n",
    "        abs_cos = abs(rotation_mat[0, 0])\n",
    "        abs_sin = abs(rotation_mat[0, 1])\n",
    "\n",
    "        # find the new width and height bounds\n",
    "        bound_w = int(height * abs_sin + width * abs_cos)\n",
    "        bound_h = int(height * abs_cos + width * abs_sin)\n",
    "\n",
    "        # subtract old image center (bringing image back to origin) and adding the new image center coordinates\n",
    "        rotation_mat[0, 2] += bound_w / 2 - image_center[0]\n",
    "        rotation_mat[1, 2] += bound_h / 2 - image_center[1]\n",
    "\n",
    "        # rotate image with the new bounds and translated rotation matrix\n",
    "        rotated_mat = cv2.warpAffine(self.image, rotation_mat, (bound_w, bound_h))\n",
    "        return rotated_mat"
   ]
  },
  {
   "cell_type": "code",
   "execution_count": null,
   "metadata": {},
   "outputs": [],
   "source": [
    "if __name__ == \"__main__\":\n",
    "    angels=[45,70,90,115,135,155,180,205,225,250,270,295,315]\n",
    "    for filename in tqdm(os.listdir()): \n",
    "        file =filename.split(\".\")\n",
    "        if(file[-1]==\"jpg\"):\n",
    "            image_name=file[0]\n",
    "            image_ext=\".\"+file[1]\n",
    "        else:\n",
    "            continue\n",
    "        for angle in angels:\n",
    "            im = yoloRotatebbox(image_name, image_ext, angle)\n",
    "            bbox = im.rotateYolobbox()\n",
    "            image = im.rotate_image()\n",
    "\n",
    "            # to write rotateed image to disk\n",
    "            cv2.imwrite(image_name+'_' + str(angle) + '.jpg', image)\n",
    "\n",
    "            file_name = image_name+'_' + str(angle) + '.txt'\n",
    "            #print(\"For angle \"+str(angle))\n",
    "            if os.path.exists(file_name):\n",
    "                os.remove(file_name)\n",
    "\n",
    "            # to write the new rotated bboxes to file\n",
    "            for i in bbox:\n",
    "                with open(file_name, 'a') as fout:\n",
    "                    fout.writelines(\n",
    "                        ' '.join(map(str, cvFormattoYolo(i, im.rotate_image().shape[0], im.rotate_image().shape[1]))) + '\\n')"
   ]
  },
  {
   "cell_type": "code",
   "execution_count": 27,
   "metadata": {},
   "outputs": [
    {
     "name": "stderr",
     "output_type": "stream",
     "text": [
      "100%|████████████████████████████████████████████████████████████████████████████████| 279/279 [00:14<00:00, 18.83it/s]\n"
     ]
    }
   ],
   "source": [
    "#for imges only\n",
    "os.chdir(\"D:\\\\My ML Projects\\\\lenskart task\\\\sub-train\\\\Non-Power Reading\\\\Wayfarer\")\n",
    "if __name__ == \"__main__\":\n",
    "    #angels=[45,55,90,115,135,155,180,205,225,250,270,295,315,345]\n",
    "    angels=[90,180,275]\n",
    "    for filename in tqdm(os.listdir()): \n",
    "        file =filename.split(\".\")\n",
    "        if(file[-1]==\"jpg\"):\n",
    "            image_name=file[0]\n",
    "            image_ext=\".\"+file[1]\n",
    "        else:\n",
    "            continue\n",
    "        for angle in angels:\n",
    "            im = yoloRotatebbox(image_name, image_ext, angle)\n",
    "            image = im.rotate_image()\n",
    "\n",
    "            # to write rotateed image to disk\n",
    "            cv2.imwrite(image_name+'_' + str(angle) + '.jpg', image)"
   ]
  },
  {
   "cell_type": "code",
   "execution_count": 32,
   "metadata": {},
   "outputs": [],
   "source": [
    "from skimage.transform import rotate\n",
    "from skimage.util import random_noise, img_as_ubyte\n",
    "from skimage.io import imread\n",
    "import cv2, random"
   ]
  },
  {
   "cell_type": "code",
   "execution_count": 29,
   "metadata": {},
   "outputs": [],
   "source": [
    "def h_flip(image):\n",
    "    return np.fliplr(image)\n",
    "\n",
    "def v_flip(image):\n",
    "    return np.flipud(image)\n",
    "\n",
    "def add_noise(image):\n",
    "    return random_noise(image)\n",
    "\n",
    "def blur_image(image):\n",
    "    return cv2.GaussianBlur(image,(9,9),0)"
   ]
  },
  {
   "cell_type": "code",
   "execution_count": 30,
   "metadata": {},
   "outputs": [],
   "source": [
    "transformations={\"horizontal flip\":h_flip,\n",
    "                 \"vertical flip\": v_flip,\n",
    "                 \"adding noise\":add_noise,\n",
    "                 \"making blur\":blur_image\n",
    "}"
   ]
  },
  {
   "cell_type": "code",
   "execution_count": 35,
   "metadata": {},
   "outputs": [
    {
     "name": "stderr",
     "output_type": "stream",
     "text": [
      "100%|██████████████████████████████████████████████████████████████████████████████| 1100/1100 [05:17<00:00,  3.47it/s]\n"
     ]
    }
   ],
   "source": [
    "def Augment_images_gerenator():\n",
    "    image_path=\"D:/My ML Projects/lenskart task/sub-train/eyeframe/Wayfarer\"\n",
    "    augmentated_path=\"D:/My ML Projects/lenskart task/sub-train/eyeframe/Wayfarer\"\n",
    "    images=[]\n",
    "    for im in os.listdir(image_path):\n",
    "        images.append(os.path.join(image_path,im))\n",
    "    images_to_generate=1100\n",
    "    i=1\n",
    "    for i in tqdm(range(images_to_generate)):\n",
    "        image=random.choice(images)\n",
    "        original_image=imread(image)\n",
    "        transformed_image=None\n",
    "        n=0\n",
    "        transformation_count=random.randint(1,len(transformations))\n",
    "\n",
    "        while n<=transformation_count:\n",
    "            key=random.choice(list(transformations))\n",
    "            transformed_image=transformations[key](original_image)\n",
    "            n+=1\n",
    "        new_image_path=\"%s/aug_%s.jpg\"%(augmentated_path,i)\n",
    "        transformed_image=img_as_ubyte(transformed_image)\n",
    "        transformed_image=cv2.cvtColor(transformed_image, cv2.COLOR_BGR2RGB)\n",
    "        cv2.imwrite(new_image_path, transformed_image)\n",
    "        #i+=1\n",
    "Augment_images_gerenator()"
   ]
  },
  {
   "cell_type": "code",
   "execution_count": 36,
   "metadata": {},
   "outputs": [
    {
     "name": "stderr",
     "output_type": "stream",
     "text": [
      "100%|██████████████████████████████████████████████████████████████████████████████| 1000/1000 [03:35<00:00,  4.65it/s]\n"
     ]
    }
   ],
   "source": [
    "def Augment_images_gerenator():\n",
    "    image_path=\"D:/My ML Projects/lenskart task/sub-train/Non-Power Reading/Aviator\"\n",
    "    augmentated_path=\"D:/My ML Projects/lenskart task/sub-train/Non-Power Reading/Aviator\"\n",
    "    images=[]\n",
    "    for im in os.listdir(image_path):\n",
    "        images.append(os.path.join(image_path,im))\n",
    "    images_to_generate=1000\n",
    "    i=1\n",
    "    for i in tqdm(range(images_to_generate)):\n",
    "        image=random.choice(images)\n",
    "        original_image=imread(image)\n",
    "        transformed_image=None\n",
    "        n=0\n",
    "        transformation_count=random.randint(1,len(transformations))\n",
    "\n",
    "        while n<=transformation_count:\n",
    "            key=random.choice(list(transformations))\n",
    "            transformed_image=transformations[key](original_image)\n",
    "            n+=1\n",
    "        new_image_path=\"%s/aug_%s.jpg\"%(augmentated_path,i)\n",
    "        transformed_image=img_as_ubyte(transformed_image)\n",
    "        transformed_image=cv2.cvtColor(transformed_image, cv2.COLOR_BGR2RGB)\n",
    "        cv2.imwrite(new_image_path, transformed_image)\n",
    "        #i+=1\n",
    "Augment_images_gerenator()"
   ]
  },
  {
   "cell_type": "code",
   "execution_count": 37,
   "metadata": {},
   "outputs": [
    {
     "name": "stderr",
     "output_type": "stream",
     "text": [
      "100%|██████████████████████████████████████████████████████████████████████████████| 1100/1100 [05:18<00:00,  3.46it/s]\n"
     ]
    }
   ],
   "source": [
    "def Augment_images_gerenator():\n",
    "    image_path=\"D:/My ML Projects/lenskart task/sub-train/Non-Power Reading/Oval\"\n",
    "    augmentated_path=\"D:/My ML Projects/lenskart task/sub-train/Non-Power Reading/Oval\"\n",
    "    images=[]\n",
    "    for im in os.listdir(image_path):\n",
    "        images.append(os.path.join(image_path,im))\n",
    "    images_to_generate=1100\n",
    "    i=1\n",
    "    for i in tqdm(range(images_to_generate)):\n",
    "        image=random.choice(images)\n",
    "        original_image=imread(image)\n",
    "        transformed_image=None\n",
    "        n=0\n",
    "        transformation_count=random.randint(1,len(transformations))\n",
    "\n",
    "        while n<=transformation_count:\n",
    "            key=random.choice(list(transformations))\n",
    "            transformed_image=transformations[key](original_image)\n",
    "            n+=1\n",
    "        new_image_path=\"%s/aug_%s.jpg\"%(augmentated_path,i)\n",
    "        transformed_image=img_as_ubyte(transformed_image)\n",
    "        transformed_image=cv2.cvtColor(transformed_image, cv2.COLOR_BGR2RGB)\n",
    "        cv2.imwrite(new_image_path, transformed_image)\n",
    "        #i+=1\n",
    "Augment_images_gerenator()"
   ]
  },
  {
   "cell_type": "code",
   "execution_count": 38,
   "metadata": {},
   "outputs": [
    {
     "name": "stderr",
     "output_type": "stream",
     "text": [
      "100%|████████████████████████████████████████████████████████████████████████████████| 200/200 [00:22<00:00,  8.90it/s]\n"
     ]
    }
   ],
   "source": [
    "def Augment_images_gerenator():\n",
    "    image_path=\"D:/My ML Projects/lenskart task/sub-train/Non-Power Reading/Wayfarer\"\n",
    "    augmentated_path=\"D:/My ML Projects/lenskart task/sub-train/Non-Power Reading/Wayfarer\"\n",
    "    images=[]\n",
    "    for im in os.listdir(image_path):\n",
    "        images.append(os.path.join(image_path,im))\n",
    "    images_to_generate=200\n",
    "    i=1\n",
    "    for i in tqdm(range(images_to_generate)):\n",
    "        image=random.choice(images)\n",
    "        original_image=imread(image)\n",
    "        transformed_image=None\n",
    "        n=0\n",
    "        transformation_count=random.randint(1,len(transformations))\n",
    "\n",
    "        while n<=transformation_count:\n",
    "            key=random.choice(list(transformations))\n",
    "            transformed_image=transformations[key](original_image)\n",
    "            n+=1\n",
    "        new_image_path=\"%s/aug_%s.jpg\"%(augmentated_path,i)\n",
    "        transformed_image=img_as_ubyte(transformed_image)\n",
    "        transformed_image=cv2.cvtColor(transformed_image, cv2.COLOR_BGR2RGB)\n",
    "        cv2.imwrite(new_image_path, transformed_image)\n",
    "        #i+=1\n",
    "Augment_images_gerenator()"
   ]
  },
  {
   "cell_type": "code",
   "execution_count": null,
   "metadata": {},
   "outputs": [],
   "source": [
    "def Augment_images_gerenator():\n",
    "    image_path=\"D:/My ML Projects/lenskart task/sub-train/eyeframe/Wayfarer\"\n",
    "    augmentated_path=\"D:/My ML Projects/lenskart task/sub-train/eyeframe/Wayfarer\"\n",
    "    images=[]\n",
    "    for im in os.listdir(image_path):\n",
    "        images.append(os.path.join(image_path,im))\n",
    "    images_to_generate=1100\n",
    "    i=1\n",
    "    for i in tqdm(range(images_to_generate)):\n",
    "        image=random.choice(images)\n",
    "        original_image=imread(image)\n",
    "        transformed_image=None\n",
    "        n=0\n",
    "        transformation_count=random.randint(1,len(transformations))\n",
    "\n",
    "        while n<=transformation_count:\n",
    "            key=random.choice(list(transformations))\n",
    "            transformed_image=transformations[key](original_image)\n",
    "            n+=1\n",
    "        new_image_path=\"%s/aug_%s.jpg\"%(augmentated_path,i)\n",
    "        transformed_image=img_as_ubyte(transformed_image)\n",
    "        transformed_image=cv2.cvtColor(transformed_image, cv2.COLOR_BGR2RGB)\n",
    "        cv2.imwrite(new_image_path, transformed_image)\n",
    "        #i+=1\n",
    "Augment_images_gerenator()"
   ]
  },
  {
   "cell_type": "code",
   "execution_count": 39,
   "metadata": {},
   "outputs": [
    {
     "name": "stderr",
     "output_type": "stream",
     "text": [
      "100%|████████████████████████████████████████████████████████████████████████████████| 300/300 [00:57<00:00,  5.20it/s]\n"
     ]
    }
   ],
   "source": [
    "def Augment_images_gerenator():\n",
    "    image_path=\"D:/My ML Projects/lenskart task/sub-train/sunglasses/Rectangle\"\n",
    "    augmentated_path=\"D:/My ML Projects/lenskart task/sub-train/sunglasses/Rectangle\"\n",
    "    images=[]\n",
    "    for im in os.listdir(image_path):\n",
    "        images.append(os.path.join(image_path,im))\n",
    "    images_to_generate=300\n",
    "    i=1\n",
    "    for i in tqdm(range(images_to_generate)):\n",
    "        image=random.choice(images)\n",
    "        original_image=imread(image)\n",
    "        transformed_image=None\n",
    "        n=0\n",
    "        transformation_count=random.randint(1,len(transformations))\n",
    "\n",
    "        while n<=transformation_count:\n",
    "            key=random.choice(list(transformations))\n",
    "            transformed_image=transformations[key](original_image)\n",
    "            n+=1\n",
    "        new_image_path=\"%s/aug_%s.jpg\"%(augmentated_path,i)\n",
    "        transformed_image=img_as_ubyte(transformed_image)\n",
    "        transformed_image=cv2.cvtColor(transformed_image, cv2.COLOR_BGR2RGB)\n",
    "        cv2.imwrite(new_image_path, transformed_image)\n",
    "        #i+=1\n",
    "Augment_images_gerenator()"
   ]
  },
  {
   "cell_type": "code",
   "execution_count": null,
   "metadata": {},
   "outputs": [],
   "source": []
  }
 ],
 "metadata": {
  "kernelspec": {
   "display_name": "Python 3.7 GPU",
   "language": "python",
   "name": "tensorflow"
  },
  "language_info": {
   "codemirror_mode": {
    "name": "ipython",
    "version": 3
   },
   "file_extension": ".py",
   "mimetype": "text/x-python",
   "name": "python",
   "nbconvert_exporter": "python",
   "pygments_lexer": "ipython3",
   "version": "3.7.7"
  }
 },
 "nbformat": 4,
 "nbformat_minor": 4
}
