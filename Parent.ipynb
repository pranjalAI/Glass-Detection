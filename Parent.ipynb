{
 "cells": [
  {
   "cell_type": "code",
   "execution_count": 2,
   "metadata": {},
   "outputs": [],
   "source": [
    "import os, random, shutil\n",
    "import numpy as np\n",
    "import pandas as pd\n",
    "import PIL\n",
    "#import keras\n",
    "import itertools\n",
    "from PIL import Image\n",
    "\n",
    "import tensorflow as tf\n",
    "\n",
    "from sklearn.utils import shuffle\n",
    "from sklearn.model_selection import train_test_split\n",
    "from sklearn import preprocessing\n",
    "#from skimage import feature, data, io, measure\n",
    "from sklearn.metrics import confusion_matrix\n",
    "\n",
    "import matplotlib.pyplot as plt\n",
    "from matplotlib import ticker\n",
    "import seaborn as sns\n",
    "%matplotlib inline \n",
    "from tqdm import tqdm\n",
    "import cv2\n",
    "from tensorflow.keras import backend as K\n",
    "from tensorflow.keras.models import Model\n",
    "from tensorflow.keras.models import Sequential\n",
    "from tensorflow.keras.layers import Input, Dropout, Flatten, Conv2D, MaxPooling2D, Dense, Activation\n",
    "from tensorflow.keras.optimizers import RMSprop, Adam\n",
    "from tensorflow.keras.layers import BatchNormalization\n",
    "#from keras.callbacks import ModelCheckpoint, Callback, EarlyStopping\n",
    "from keras.utils import np_utils\n",
    "from tensorflow.keras.preprocessing.image import ImageDataGenerator, array_to_img, img_to_array, load_img\n",
    "from tensorflow.keras.callbacks import TensorBoard\n",
    "import io\n",
    "import time\n",
    "import datetime\n",
    "from tensorflow.keras.optimizers import Adam,Adadelta\n",
    "from tensorflow.keras.preprocessing.image import ImageDataGenerator\n",
    "import urllib"
   ]
  },
  {
   "cell_type": "code",
   "execution_count": 5,
   "metadata": {},
   "outputs": [],
   "source": [
    "os.chdir(\"D:\\\\My ML Projects\\\\lenskart task\")"
   ]
  },
  {
   "cell_type": "code",
   "execution_count": 3,
   "metadata": {},
   "outputs": [],
   "source": [
    "df_train=pd.read_csv(\"lenskart_products_recruitment_challenge.csv\")"
   ]
  },
  {
   "cell_type": "code",
   "execution_count": 4,
   "metadata": {},
   "outputs": [
    {
     "data": {
      "text/html": [
       "<div>\n",
       "<style scoped>\n",
       "    .dataframe tbody tr th:only-of-type {\n",
       "        vertical-align: middle;\n",
       "    }\n",
       "\n",
       "    .dataframe tbody tr th {\n",
       "        vertical-align: top;\n",
       "    }\n",
       "\n",
       "    .dataframe thead th {\n",
       "        text-align: right;\n",
       "    }\n",
       "</style>\n",
       "<table border=\"1\" class=\"dataframe\">\n",
       "  <thead>\n",
       "    <tr style=\"text-align: right;\">\n",
       "      <th></th>\n",
       "      <th>Unnamed: 0</th>\n",
       "      <th>product_name</th>\n",
       "      <th>product_id</th>\n",
       "      <th>parent_category</th>\n",
       "      <th>Image_Front</th>\n",
       "      <th>frame_shape</th>\n",
       "    </tr>\n",
       "  </thead>\n",
       "  <tbody>\n",
       "    <tr>\n",
       "      <th>0</th>\n",
       "      <td>0</td>\n",
       "      <td>Vintage Persona C4</td>\n",
       "      <td>7641</td>\n",
       "      <td>eyeframe</td>\n",
       "      <td>http://d3b4di70nev5h5.cloudfront.net/media/cat...</td>\n",
       "      <td>Rectangle</td>\n",
       "    </tr>\n",
       "    <tr>\n",
       "      <th>1</th>\n",
       "      <td>1</td>\n",
       "      <td>Vintage Crazy-X C2 Red</td>\n",
       "      <td>7643</td>\n",
       "      <td>eyeframe</td>\n",
       "      <td>http://d3b4di70nev5h5.cloudfront.net/media/cat...</td>\n",
       "      <td>Rectangle</td>\n",
       "    </tr>\n",
       "    <tr>\n",
       "      <th>2</th>\n",
       "      <td>2</td>\n",
       "      <td>Jialedi Eyewear 1086 C8 Blue</td>\n",
       "      <td>8254</td>\n",
       "      <td>eyeframe</td>\n",
       "      <td>http://d3b4di70nev5h5.cloudfront.net/media/cat...</td>\n",
       "      <td>Rectangle</td>\n",
       "    </tr>\n",
       "    <tr>\n",
       "      <th>3</th>\n",
       "      <td>3</td>\n",
       "      <td>Jialedi Eyewear 1086 C6 Red</td>\n",
       "      <td>8255</td>\n",
       "      <td>eyeframe</td>\n",
       "      <td>http://d3b4di70nev5h5.cloudfront.net/media/cat...</td>\n",
       "      <td>Rectangle</td>\n",
       "    </tr>\n",
       "    <tr>\n",
       "      <th>4</th>\n",
       "      <td>4</td>\n",
       "      <td>Jialedi Eyewear 1086 C4 Tortoise Transperent</td>\n",
       "      <td>8256</td>\n",
       "      <td>eyeframe</td>\n",
       "      <td>http://d3b4di70nev5h5.cloudfront.net/media/cat...</td>\n",
       "      <td>Rectangle</td>\n",
       "    </tr>\n",
       "    <tr>\n",
       "      <th>...</th>\n",
       "      <td>...</td>\n",
       "      <td>...</td>\n",
       "      <td>...</td>\n",
       "      <td>...</td>\n",
       "      <td>...</td>\n",
       "      <td>...</td>\n",
       "    </tr>\n",
       "    <tr>\n",
       "      <th>5565</th>\n",
       "      <td>5565</td>\n",
       "      <td>Black White Full Rim Rectangle Vincent Chase O...</td>\n",
       "      <td>99444</td>\n",
       "      <td>Non-Power Reading</td>\n",
       "      <td>http://d3b4di70nev5h5.cloudfront.net/media/cat...</td>\n",
       "      <td>Rectangle</td>\n",
       "    </tr>\n",
       "    <tr>\n",
       "      <th>5566</th>\n",
       "      <td>5566</td>\n",
       "      <td>Maroon Full Rim Rectangle Vincent Chase Online...</td>\n",
       "      <td>99445</td>\n",
       "      <td>Non-Power Reading</td>\n",
       "      <td>http://d3b4di70nev5h5.cloudfront.net/media/cat...</td>\n",
       "      <td>Rectangle</td>\n",
       "    </tr>\n",
       "    <tr>\n",
       "      <th>5567</th>\n",
       "      <td>5567</td>\n",
       "      <td>Lenskart TOI Special: Black Blue Full Rim Rect...</td>\n",
       "      <td>99446</td>\n",
       "      <td>Non-Power Reading</td>\n",
       "      <td>http://d3b4di70nev5h5.cloudfront.net/media/cat...</td>\n",
       "      <td>Rectangle</td>\n",
       "    </tr>\n",
       "    <tr>\n",
       "      <th>5568</th>\n",
       "      <td>5568</td>\n",
       "      <td>Tortoise Full Rim Rectangle Vincent Chase Onli...</td>\n",
       "      <td>99447</td>\n",
       "      <td>Non-Power Reading</td>\n",
       "      <td>http://d3b4di70nev5h5.cloudfront.net/media/cat...</td>\n",
       "      <td>Rectangle</td>\n",
       "    </tr>\n",
       "    <tr>\n",
       "      <th>5569</th>\n",
       "      <td>5569</td>\n",
       "      <td>Black Red Full Rim Rectangle Vincent Chase Onl...</td>\n",
       "      <td>99448</td>\n",
       "      <td>Non-Power Reading</td>\n",
       "      <td>http://d3b4di70nev5h5.cloudfront.net/media/cat...</td>\n",
       "      <td>Rectangle</td>\n",
       "    </tr>\n",
       "  </tbody>\n",
       "</table>\n",
       "<p>5570 rows × 6 columns</p>\n",
       "</div>"
      ],
      "text/plain": [
       "      Unnamed: 0                                       product_name  \\\n",
       "0              0                                 Vintage Persona C4   \n",
       "1              1                             Vintage Crazy-X C2 Red   \n",
       "2              2                       Jialedi Eyewear 1086 C8 Blue   \n",
       "3              3                        Jialedi Eyewear 1086 C6 Red   \n",
       "4              4       Jialedi Eyewear 1086 C4 Tortoise Transperent   \n",
       "...          ...                                                ...   \n",
       "5565        5565  Black White Full Rim Rectangle Vincent Chase O...   \n",
       "5566        5566  Maroon Full Rim Rectangle Vincent Chase Online...   \n",
       "5567        5567  Lenskart TOI Special: Black Blue Full Rim Rect...   \n",
       "5568        5568  Tortoise Full Rim Rectangle Vincent Chase Onli...   \n",
       "5569        5569  Black Red Full Rim Rectangle Vincent Chase Onl...   \n",
       "\n",
       "      product_id    parent_category  \\\n",
       "0           7641           eyeframe   \n",
       "1           7643           eyeframe   \n",
       "2           8254           eyeframe   \n",
       "3           8255           eyeframe   \n",
       "4           8256           eyeframe   \n",
       "...          ...                ...   \n",
       "5565       99444  Non-Power Reading   \n",
       "5566       99445  Non-Power Reading   \n",
       "5567       99446  Non-Power Reading   \n",
       "5568       99447  Non-Power Reading   \n",
       "5569       99448  Non-Power Reading   \n",
       "\n",
       "                                            Image_Front frame_shape  \n",
       "0     http://d3b4di70nev5h5.cloudfront.net/media/cat...   Rectangle  \n",
       "1     http://d3b4di70nev5h5.cloudfront.net/media/cat...   Rectangle  \n",
       "2     http://d3b4di70nev5h5.cloudfront.net/media/cat...   Rectangle  \n",
       "3     http://d3b4di70nev5h5.cloudfront.net/media/cat...   Rectangle  \n",
       "4     http://d3b4di70nev5h5.cloudfront.net/media/cat...   Rectangle  \n",
       "...                                                 ...         ...  \n",
       "5565  http://d3b4di70nev5h5.cloudfront.net/media/cat...   Rectangle  \n",
       "5566  http://d3b4di70nev5h5.cloudfront.net/media/cat...   Rectangle  \n",
       "5567  http://d3b4di70nev5h5.cloudfront.net/media/cat...   Rectangle  \n",
       "5568  http://d3b4di70nev5h5.cloudfront.net/media/cat...   Rectangle  \n",
       "5569  http://d3b4di70nev5h5.cloudfront.net/media/cat...   Rectangle  \n",
       "\n",
       "[5570 rows x 6 columns]"
      ]
     },
     "execution_count": 4,
     "metadata": {},
     "output_type": "execute_result"
    }
   ],
   "source": [
    "df_train"
   ]
  },
  {
   "cell_type": "code",
   "execution_count": 20,
   "metadata": {},
   "outputs": [],
   "source": [
    "'''\n",
    "function to move the images to their corresponding folder\n",
    "'''\n",
    "wrong_url=[]\n",
    "def move_files_train():\n",
    "    for i, image in tqdm(df_train.iterrows()):\n",
    "        try:\n",
    "            os.chdir(f\"D:\\\\My ML Projects\\\\lenskart task\\\\Data\\\\{image.parent_category}\\\\{image.frame_shape}\")\n",
    "            image_name=image.Image_Front.strip().split(\"/\")[-1].split(\".\")[0]\n",
    "            urllib.request.urlretrieve(image.Image_Front, f\"{image.parent_category}_{image.frame_shape}_{image_name}.jpg\")\n",
    "            os.chdir(\"D:\\\\My ML Projects\\\\lenskart task\")\n",
    "        except:\n",
    "            wrong_url.append(image.Image_Front)"
   ]
  },
  {
   "cell_type": "code",
   "execution_count": 21,
   "metadata": {},
   "outputs": [],
   "source": [
    "#move_files_train()"
   ]
  },
  {
   "cell_type": "code",
   "execution_count": 22,
   "metadata": {},
   "outputs": [],
   "source": [
    "#os.chdir(\"D:\\\\My ML Projects\\\\lenskart task\\\\Glasses\")\n",
    "for count, filename in enumerate(os.listdir()):\n",
    "    dst =\"Glass_\" + str(count) + \".jpg\"\n",
    "    src = filename \n",
    "    #os.rename(src, dst)"
   ]
  },
  {
   "cell_type": "markdown",
   "metadata": {},
   "source": [
    "## Model building"
   ]
  },
  {
   "cell_type": "code",
   "execution_count": 23,
   "metadata": {},
   "outputs": [],
   "source": [
    "batch_size_train = 25\n",
    "num_classes= 3\n",
    "IMAGE_SIZE=[200,200]\n",
    "classes_required = ['eyeframe','NonPowerReading','sunglasses']"
   ]
  },
  {
   "cell_type": "code",
   "execution_count": 29,
   "metadata": {},
   "outputs": [],
   "source": [
    "datagen = ImageDataGenerator(rescale=1.0/255.0,\n",
    "                             #shear_range = 0.2,\n",
    "                             #zoom_range = 0.2\n",
    "                            )"
   ]
  },
  {
   "cell_type": "code",
   "execution_count": 30,
   "metadata": {},
   "outputs": [
    {
     "name": "stdout",
     "output_type": "stream",
     "text": [
      "Found 5254 images belonging to 3 classes.\n"
     ]
    },
    {
     "data": {
      "text/plain": [
       "tensorflow.python.keras.preprocessing.image.DirectoryIterator"
      ]
     },
     "execution_count": 30,
     "metadata": {},
     "output_type": "execute_result"
    }
   ],
   "source": [
    "#Input the Training Data\n",
    "\n",
    "train_path = 'D:/My ML Projects/lenskart task/train'\n",
    "train_batches = datagen.flow_from_directory(train_path, target_size=(200,200), classes=classes_required, batch_size=batch_size_train)\n",
    "type(train_batches)"
   ]
  },
  {
   "cell_type": "code",
   "execution_count": 31,
   "metadata": {},
   "outputs": [
    {
     "name": "stdout",
     "output_type": "stream",
     "text": [
      "Batch shape=(25, 200, 200, 3), min=0.000, max=1.000\n"
     ]
    }
   ],
   "source": [
    "batchX, batchy = train_batches.next()\n",
    "print('Batch shape=%s, min=%.3f, max=%.3f' % (batchX.shape, batchX.min(), batchX.max()))"
   ]
  },
  {
   "cell_type": "code",
   "execution_count": 32,
   "metadata": {},
   "outputs": [],
   "source": [
    "train_imgs, train_labels = next(train_batches)"
   ]
  },
  {
   "cell_type": "code",
   "execution_count": 33,
   "metadata": {},
   "outputs": [
    {
     "data": {
      "text/plain": [
       "array([[[1., 1., 1.],\n",
       "        [1., 1., 1.],\n",
       "        [1., 1., 1.],\n",
       "        ...,\n",
       "        [1., 1., 1.],\n",
       "        [1., 1., 1.],\n",
       "        [1., 1., 1.]],\n",
       "\n",
       "       [[1., 1., 1.],\n",
       "        [1., 1., 1.],\n",
       "        [1., 1., 1.],\n",
       "        ...,\n",
       "        [1., 1., 1.],\n",
       "        [1., 1., 1.],\n",
       "        [1., 1., 1.]],\n",
       "\n",
       "       [[1., 1., 1.],\n",
       "        [1., 1., 1.],\n",
       "        [1., 1., 1.],\n",
       "        ...,\n",
       "        [1., 1., 1.],\n",
       "        [1., 1., 1.],\n",
       "        [1., 1., 1.]],\n",
       "\n",
       "       ...,\n",
       "\n",
       "       [[1., 1., 1.],\n",
       "        [1., 1., 1.],\n",
       "        [1., 1., 1.],\n",
       "        ...,\n",
       "        [1., 1., 1.],\n",
       "        [1., 1., 1.],\n",
       "        [1., 1., 1.]],\n",
       "\n",
       "       [[1., 1., 1.],\n",
       "        [1., 1., 1.],\n",
       "        [1., 1., 1.],\n",
       "        ...,\n",
       "        [1., 1., 1.],\n",
       "        [1., 1., 1.],\n",
       "        [1., 1., 1.]],\n",
       "\n",
       "       [[1., 1., 1.],\n",
       "        [1., 1., 1.],\n",
       "        [1., 1., 1.],\n",
       "        ...,\n",
       "        [1., 1., 1.],\n",
       "        [1., 1., 1.],\n",
       "        [1., 1., 1.]]], dtype=float32)"
      ]
     },
     "execution_count": 33,
     "metadata": {},
     "output_type": "execute_result"
    }
   ],
   "source": [
    "train_imgs[0]"
   ]
  },
  {
   "cell_type": "code",
   "execution_count": 34,
   "metadata": {},
   "outputs": [],
   "source": [
    "config = tf.compat.v1.ConfigProto( device_count = {'GPU': 1 , 'CPU': 64} ) \n",
    "sess = tf.compat.v1.Session(config=config) \n",
    "#keras.backend.set_session(sess)\n",
    "tf.compat.v1.keras.backend.set_session(\n",
    "    sess\n",
    ")\n",
    "gpu_options = tf.compat.v1.GPUOptions(allow_growth=True, per_process_gpu_memory_fraction=0.333)\n",
    "session = tf.compat.v1.InteractiveSession(config=tf.compat.v1.ConfigProto(gpu_options=gpu_options))"
   ]
  },
  {
   "cell_type": "markdown",
   "metadata": {},
   "source": [
    "### Model Architecture"
   ]
  },
  {
   "cell_type": "code",
   "execution_count": 35,
   "metadata": {},
   "outputs": [],
   "source": [
    "model=Sequential()\n",
    "model.add(Conv2D(16,kernel_size=(3,3), activation=\"relu\" ,input_shape=IMAGE_SIZE + [3], padding='same'))\n",
    "\n",
    "model.add(Conv2D(32, kernel_size=(3,3), activation=\"relu\",padding='same'))\n",
    "model.add(BatchNormalization()) \n",
    "model.add(MaxPooling2D(pool_size=(2,2)))\n",
    "model.add(Dropout(0.30))\n",
    "\n",
    "model.add(Conv2D(64, kernel_size=(3,3), activation=\"relu\",padding='same'))\n",
    "#model.add(BatchNormalization()) \n",
    "model.add(MaxPooling2D(pool_size=(2,2)))\n",
    "model.add(Dropout(0.35))\n",
    "\n",
    "model.add(Conv2D(128, kernel_size=(3,3), activation=\"relu\",padding='same'))\n",
    "#model.add(MaxPooling2D(pool_size=(2,2)))\n",
    "model.add(BatchNormalization()) \n",
    "model.add(Dropout(0.45))\n",
    "\n",
    "model.add(Flatten())\n",
    "model.add(Dense(64, activation=\"relu\"))\n",
    "model.add(Dense(num_classes, activation=\"softmax\"))"
   ]
  },
  {
   "cell_type": "code",
   "execution_count": 36,
   "metadata": {},
   "outputs": [
    {
     "name": "stdout",
     "output_type": "stream",
     "text": [
      "Model: \"sequential\"\n",
      "_________________________________________________________________\n",
      "Layer (type)                 Output Shape              Param #   \n",
      "=================================================================\n",
      "conv2d (Conv2D)              (None, 200, 200, 16)      448       \n",
      "_________________________________________________________________\n",
      "conv2d_1 (Conv2D)            (None, 200, 200, 32)      4640      \n",
      "_________________________________________________________________\n",
      "batch_normalization (BatchNo (None, 200, 200, 32)      128       \n",
      "_________________________________________________________________\n",
      "max_pooling2d (MaxPooling2D) (None, 100, 100, 32)      0         \n",
      "_________________________________________________________________\n",
      "dropout (Dropout)            (None, 100, 100, 32)      0         \n",
      "_________________________________________________________________\n",
      "conv2d_2 (Conv2D)            (None, 100, 100, 64)      18496     \n",
      "_________________________________________________________________\n",
      "max_pooling2d_1 (MaxPooling2 (None, 50, 50, 64)        0         \n",
      "_________________________________________________________________\n",
      "dropout_1 (Dropout)          (None, 50, 50, 64)        0         \n",
      "_________________________________________________________________\n",
      "conv2d_3 (Conv2D)            (None, 50, 50, 128)       73856     \n",
      "_________________________________________________________________\n",
      "batch_normalization_1 (Batch (None, 50, 50, 128)       512       \n",
      "_________________________________________________________________\n",
      "dropout_2 (Dropout)          (None, 50, 50, 128)       0         \n",
      "_________________________________________________________________\n",
      "flatten (Flatten)            (None, 320000)            0         \n",
      "_________________________________________________________________\n",
      "dense (Dense)                (None, 64)                20480064  \n",
      "_________________________________________________________________\n",
      "dense_1 (Dense)              (None, 3)                 195       \n",
      "=================================================================\n",
      "Total params: 20,578,339\n",
      "Trainable params: 20,578,019\n",
      "Non-trainable params: 320\n",
      "_________________________________________________________________\n"
     ]
    }
   ],
   "source": [
    "model.summary()"
   ]
  },
  {
   "cell_type": "code",
   "execution_count": 37,
   "metadata": {},
   "outputs": [],
   "source": [
    "# Complie the model\n",
    "opt = Adadelta(learning_rate=0.0001, decay=1e-6)\n",
    "model.compile(optimizer=opt, loss='categorical_crossentropy', metrics=['accuracy'])"
   ]
  },
  {
   "cell_type": "code",
   "execution_count": 38,
   "metadata": {},
   "outputs": [
    {
     "name": "stdout",
     "output_type": "stream",
     "text": [
      "WARNING:tensorflow:From <ipython-input-38-f62277da6d6a>:1: Model.fit_generator (from tensorflow.python.keras.engine.training) is deprecated and will be removed in a future version.\n",
      "Instructions for updating:\n",
      "Please use Model.fit, which supports generators.\n",
      "Epoch 1/100\n",
      " 2/25 [=>............................] - ETA: 1s - loss: 1.6053 - accuracy: 0.3800WARNING:tensorflow:Callbacks method `on_train_batch_end` is slow compared to the batch time (batch time: 0.0505s vs `on_train_batch_end` time: 0.0848s). Check your callbacks.\n",
      "25/25 [==============================] - 7s 291ms/step - loss: 1.7889 - accuracy: 0.3760\n",
      "Epoch 2/100\n",
      "25/25 [==============================] - 8s 318ms/step - loss: 1.6999 - accuracy: 0.4064\n",
      "Epoch 3/100\n",
      "25/25 [==============================] - 8s 302ms/step - loss: 1.5464 - accuracy: 0.4400\n",
      "Epoch 4/100\n",
      "25/25 [==============================] - 7s 297ms/step - loss: 1.4380 - accuracy: 0.4503\n",
      "Epoch 5/100\n",
      "25/25 [==============================] - 6s 248ms/step - loss: 1.2608 - accuracy: 0.4848\n",
      "Epoch 6/100\n",
      "25/25 [==============================] - 6s 260ms/step - loss: 1.2449 - accuracy: 0.5104\n",
      "Epoch 7/100\n",
      "25/25 [==============================] - 7s 267ms/step - loss: 1.2403 - accuracy: 0.5296\n",
      "Epoch 8/100\n",
      "25/25 [==============================] - 7s 262ms/step - loss: 1.1671 - accuracy: 0.5568\n",
      "Epoch 9/100\n",
      "25/25 [==============================] - 6s 256ms/step - loss: 1.0820 - accuracy: 0.5456\n",
      "Epoch 10/100\n",
      "25/25 [==============================] - 6s 251ms/step - loss: 1.1010 - accuracy: 0.5440\n",
      "Epoch 11/100\n",
      "25/25 [==============================] - 6s 233ms/step - loss: 0.9521 - accuracy: 0.6096\n",
      "Epoch 12/100\n",
      "25/25 [==============================] - 6s 237ms/step - loss: 0.9832 - accuracy: 0.5984\n",
      "Epoch 13/100\n",
      "25/25 [==============================] - 6s 243ms/step - loss: 0.9070 - accuracy: 0.6144\n",
      "Epoch 14/100\n",
      "25/25 [==============================] - 6s 232ms/step - loss: 0.9191 - accuracy: 0.6192\n",
      "Epoch 15/100\n",
      "25/25 [==============================] - 6s 228ms/step - loss: 0.8803 - accuracy: 0.6308\n",
      "Epoch 16/100\n",
      "25/25 [==============================] - 7s 276ms/step - loss: 0.8442 - accuracy: 0.6656\n",
      "Epoch 17/100\n",
      "25/25 [==============================] - 10s 389ms/step - loss: 0.8707 - accuracy: 0.6464\n",
      "Epoch 18/100\n",
      "25/25 [==============================] - 9s 370ms/step - loss: 0.8425 - accuracy: 0.6528\n",
      "Epoch 19/100\n",
      "25/25 [==============================] - 9s 358ms/step - loss: 0.7973 - accuracy: 0.6832\n",
      "Epoch 20/100\n",
      "25/25 [==============================] - 9s 370ms/step - loss: 0.7744 - accuracy: 0.6864\n",
      "Epoch 21/100\n",
      "25/25 [==============================] - 9s 343ms/step - loss: 0.7564 - accuracy: 0.6871\n",
      "Epoch 22/100\n",
      "25/25 [==============================] - 9s 354ms/step - loss: 0.7227 - accuracy: 0.6976\n",
      "Epoch 23/100\n",
      "25/25 [==============================] - 8s 327ms/step - loss: 0.7904 - accuracy: 0.6821\n",
      "Epoch 24/100\n",
      "25/25 [==============================] - 9s 358ms/step - loss: 0.7317 - accuracy: 0.7072\n",
      "Epoch 25/100\n",
      "25/25 [==============================] - 8s 331ms/step - loss: 0.6643 - accuracy: 0.7248\n",
      "Epoch 26/100\n",
      "25/25 [==============================] - 8s 336ms/step - loss: 0.6287 - accuracy: 0.7616\n",
      "Epoch 27/100\n",
      "25/25 [==============================] - 8s 314ms/step - loss: 0.7291 - accuracy: 0.7088\n",
      "Epoch 28/100\n",
      "25/25 [==============================] - 8s 331ms/step - loss: 0.6713 - accuracy: 0.7392\n",
      "Epoch 29/100\n",
      "25/25 [==============================] - 8s 333ms/step - loss: 0.6541 - accuracy: 0.7520\n",
      "Epoch 30/100\n",
      "25/25 [==============================] - 8s 309ms/step - loss: 0.6415 - accuracy: 0.7616\n",
      "Epoch 31/100\n",
      "25/25 [==============================] - 8s 339ms/step - loss: 0.6151 - accuracy: 0.7648\n",
      "Epoch 32/100\n",
      "25/25 [==============================] - 8s 307ms/step - loss: 0.6255 - accuracy: 0.7536\n",
      "Epoch 33/100\n",
      "25/25 [==============================] - 7s 291ms/step - loss: 0.5676 - accuracy: 0.7840\n",
      "Epoch 34/100\n",
      "25/25 [==============================] - 8s 329ms/step - loss: 0.6146 - accuracy: 0.7680\n",
      "Epoch 35/100\n",
      "25/25 [==============================] - 8s 338ms/step - loss: 0.6658 - accuracy: 0.7632\n",
      "Epoch 36/100\n",
      "25/25 [==============================] - 9s 342ms/step - loss: 0.6233 - accuracy: 0.7392\n",
      "Epoch 37/100\n",
      "25/25 [==============================] - 8s 328ms/step - loss: 0.5666 - accuracy: 0.7760\n",
      "Epoch 38/100\n",
      "25/25 [==============================] - 9s 354ms/step - loss: 0.5703 - accuracy: 0.7696\n",
      "Epoch 39/100\n",
      "25/25 [==============================] - 9s 349ms/step - loss: 0.5357 - accuracy: 0.7930\n",
      "Epoch 40/100\n",
      "25/25 [==============================] - 9s 355ms/step - loss: 0.4872 - accuracy: 0.8192\n",
      "Epoch 41/100\n",
      "25/25 [==============================] - 8s 320ms/step - loss: 0.5957 - accuracy: 0.7712\n",
      "Epoch 42/100\n",
      "25/25 [==============================] - 8s 332ms/step - loss: 0.5316 - accuracy: 0.8048\n",
      "Epoch 43/100\n",
      "25/25 [==============================] - 8s 325ms/step - loss: 0.5748 - accuracy: 0.7848\n",
      "Epoch 44/100\n",
      "25/25 [==============================] - 9s 352ms/step - loss: 0.5039 - accuracy: 0.8192\n",
      "Epoch 45/100\n",
      "25/25 [==============================] - 8s 325ms/step - loss: 0.5622 - accuracy: 0.7930\n",
      "Epoch 46/100\n",
      "25/25 [==============================] - 9s 345ms/step - loss: 0.6207 - accuracy: 0.7568\n",
      "Epoch 47/100\n",
      "25/25 [==============================] - 9s 341ms/step - loss: 0.4934 - accuracy: 0.8272\n",
      "Epoch 48/100\n",
      "25/25 [==============================] - 8s 332ms/step - loss: 0.5521 - accuracy: 0.8016\n",
      "Epoch 49/100\n",
      "25/25 [==============================] - 8s 328ms/step - loss: 0.4803 - accuracy: 0.8295\n",
      "Epoch 50/100\n",
      "25/25 [==============================] - 8s 336ms/step - loss: 0.4470 - accuracy: 0.8464\n",
      "Epoch 51/100\n",
      "25/25 [==============================] - 8s 325ms/step - loss: 0.4662 - accuracy: 0.8208\n",
      "Epoch 52/100\n",
      "25/25 [==============================] - 9s 352ms/step - loss: 0.4904 - accuracy: 0.8144\n",
      "Epoch 53/100\n",
      "25/25 [==============================] - 8s 335ms/step - loss: 0.5272 - accuracy: 0.8128\n",
      "Epoch 54/100\n",
      "25/25 [==============================] - 9s 351ms/step - loss: 0.4492 - accuracy: 0.8256\n",
      "Epoch 55/100\n",
      "25/25 [==============================] - 8s 337ms/step - loss: 0.4421 - accuracy: 0.8477\n",
      "Epoch 56/100\n",
      "25/25 [==============================] - 9s 342ms/step - loss: 0.4601 - accuracy: 0.8128\n",
      "Epoch 57/100\n",
      "25/25 [==============================] - 9s 343ms/step - loss: 0.4693 - accuracy: 0.8176\n",
      "Epoch 58/100\n",
      "25/25 [==============================] - 9s 352ms/step - loss: 0.4918 - accuracy: 0.8288\n",
      "Epoch 59/100\n",
      "25/25 [==============================] - 9s 358ms/step - loss: 0.4163 - accuracy: 0.8368\n",
      "Epoch 60/100\n",
      "25/25 [==============================] - 9s 351ms/step - loss: 0.5224 - accuracy: 0.8096\n",
      "Epoch 61/100\n",
      "25/25 [==============================] - 9s 351ms/step - loss: 0.4596 - accuracy: 0.8320\n",
      "Epoch 62/100\n",
      "25/25 [==============================] - 8s 326ms/step - loss: 0.4138 - accuracy: 0.8624\n",
      "Epoch 63/100\n",
      "25/25 [==============================] - 9s 340ms/step - loss: 0.4851 - accuracy: 0.8208\n",
      "Epoch 64/100\n",
      "25/25 [==============================] - 9s 344ms/step - loss: 0.4772 - accuracy: 0.8129\n",
      "Epoch 65/100\n",
      "25/25 [==============================] - 8s 331ms/step - loss: 0.4982 - accuracy: 0.8128\n",
      "Epoch 66/100\n",
      "25/25 [==============================] - 9s 346ms/step - loss: 0.4552 - accuracy: 0.8384\n",
      "Epoch 67/100\n",
      "25/25 [==============================] - 8s 340ms/step - loss: 0.4808 - accuracy: 0.8288\n",
      "Epoch 68/100\n",
      "25/25 [==============================] - 9s 345ms/step - loss: 0.4466 - accuracy: 0.8544\n",
      "Epoch 69/100\n",
      "25/25 [==============================] - 9s 354ms/step - loss: 0.3742 - accuracy: 0.8592\n",
      "Epoch 70/100\n",
      "25/25 [==============================] - 9s 356ms/step - loss: 0.4337 - accuracy: 0.8432\n",
      "Epoch 71/100\n",
      "25/25 [==============================] - 9s 369ms/step - loss: 0.3973 - accuracy: 0.8528\n",
      "Epoch 72/100\n",
      "25/25 [==============================] - 9s 357ms/step - loss: 0.4358 - accuracy: 0.8368\n",
      "Epoch 73/100\n",
      "25/25 [==============================] - 9s 368ms/step - loss: 0.4210 - accuracy: 0.8480\n",
      "Epoch 74/100\n",
      "25/25 [==============================] - 9s 344ms/step - loss: 0.4532 - accuracy: 0.8496\n",
      "Epoch 75/100\n",
      "25/25 [==============================] - 9s 342ms/step - loss: 0.3989 - accuracy: 0.8480\n",
      "Epoch 76/100\n",
      "25/25 [==============================] - 9s 348ms/step - loss: 0.4078 - accuracy: 0.8593\n",
      "Epoch 77/100\n",
      "25/25 [==============================] - 8s 321ms/step - loss: 0.4215 - accuracy: 0.8576\n",
      "Epoch 78/100\n",
      "25/25 [==============================] - 9s 354ms/step - loss: 0.3747 - accuracy: 0.8444\n",
      "Epoch 79/100\n",
      "25/25 [==============================] - 9s 357ms/step - loss: 0.3954 - accuracy: 0.8640\n",
      "Epoch 80/100\n",
      "25/25 [==============================] - 10s 393ms/step - loss: 0.4375 - accuracy: 0.8320\n",
      "Epoch 81/100\n",
      "25/25 [==============================] - 9s 365ms/step - loss: 0.4271 - accuracy: 0.8464\n",
      "Epoch 82/100\n",
      "25/25 [==============================] - 10s 384ms/step - loss: 0.3722 - accuracy: 0.8656\n",
      "Epoch 83/100\n",
      "25/25 [==============================] - 9s 349ms/step - loss: 0.3761 - accuracy: 0.8720\n",
      "Epoch 84/100\n",
      "25/25 [==============================] - 9s 374ms/step - loss: 0.3842 - accuracy: 0.8742\n",
      "Epoch 85/100\n",
      "25/25 [==============================] - 11s 428ms/step - loss: 0.3827 - accuracy: 0.8768\n",
      "Epoch 86/100\n",
      "25/25 [==============================] - 10s 401ms/step - loss: 0.3520 - accuracy: 0.8896\n",
      "Epoch 87/100\n",
      "25/25 [==============================] - 9s 349ms/step - loss: 0.3570 - accuracy: 0.8672\n",
      "Epoch 88/100\n",
      "25/25 [==============================] - 9s 357ms/step - loss: 0.3873 - accuracy: 0.8592\n",
      "Epoch 89/100\n",
      "25/25 [==============================] - 10s 381ms/step - loss: 0.3559 - accuracy: 0.8992\n",
      "Epoch 90/100\n",
      "25/25 [==============================] - 8s 335ms/step - loss: 0.3117 - accuracy: 0.9008\n",
      "Epoch 91/100\n",
      "25/25 [==============================] - 8s 337ms/step - loss: 0.3504 - accuracy: 0.8896\n",
      "Epoch 92/100\n",
      "25/25 [==============================] - 9s 359ms/step - loss: 0.3557 - accuracy: 0.8784\n",
      "Epoch 93/100\n",
      "25/25 [==============================] - 10s 402ms/step - loss: 0.3417 - accuracy: 0.8928\n",
      "Epoch 94/100\n",
      "25/25 [==============================] - 9s 351ms/step - loss: 0.3384 - accuracy: 0.8960\n",
      "Epoch 95/100\n",
      "25/25 [==============================] - 9s 370ms/step - loss: 0.3269 - accuracy: 0.8784\n",
      "Epoch 96/100\n",
      "25/25 [==============================] - 11s 428ms/step - loss: 0.3468 - accuracy: 0.8864\n",
      "Epoch 97/100\n",
      "25/25 [==============================] - 11s 428ms/step - loss: 0.3283 - accuracy: 0.8720\n",
      "Epoch 98/100\n",
      "25/25 [==============================] - 11s 423ms/step - loss: 0.3589 - accuracy: 0.8816\n",
      "Epoch 99/100\n",
      "25/25 [==============================] - 11s 449ms/step - loss: 0.3284 - accuracy: 0.8688\n",
      "Epoch 100/100\n",
      "25/25 [==============================] - 9s 366ms/step - loss: 0.3556 - accuracy: 0.8576\n"
     ]
    },
    {
     "data": {
      "text/plain": [
       "<tensorflow.python.keras.callbacks.History at 0x22e964a5d88>"
      ]
     },
     "execution_count": 38,
     "metadata": {},
     "output_type": "execute_result"
    }
   ],
   "source": [
    "model.fit_generator(train_batches, steps_per_epoch=25, epochs=100, verbose=1)"
   ]
  },
  {
   "cell_type": "code",
   "execution_count": 39,
   "metadata": {},
   "outputs": [
    {
     "name": "stdout",
     "output_type": "stream",
     "text": [
      "Saved model to disk\n"
     ]
    }
   ],
   "source": [
    "model.save(\"model_Glass_25_batch.h5\")\n",
    "print(\"Saved model to disk\")"
   ]
  },
  {
   "cell_type": "markdown",
   "metadata": {},
   "source": [
    "# Please load the trained model here"
   ]
  },
  {
   "cell_type": "code",
   "execution_count": 40,
   "metadata": {},
   "outputs": [],
   "source": [
    "#Load Model\n",
    "from tensorflow.keras.models import load_model\n",
    "model_loaded = load_model('model_Glass_25_batch.h5')"
   ]
  },
  {
   "cell_type": "code",
   "execution_count": 42,
   "metadata": {},
   "outputs": [],
   "source": [
    "import cv2"
   ]
  },
  {
   "cell_type": "code",
   "execution_count": 71,
   "metadata": {},
   "outputs": [],
   "source": [
    "test_img=cv2.imread(\"D:\\\\My ML Projects\\\\lenskart task\\\\test\\\\test3.jpg\")\n",
    "test_img=cv2.resize(test_img,(200,200))\n",
    "test_img = test_img.astype('float32')\n",
    "# normalize to the range 0-1\n",
    "test_img /= 255.0\n",
    "\n",
    "test_image_for_view=np.array(test_img)\n",
    "test_image = np.expand_dims(test_image_for_view, axis=0)\n",
    "\n",
    "preds=model_loaded.predict(test_image)\n",
    "final_pred=list(np.argmax(preds, axis=1))[0]"
   ]
  },
  {
   "cell_type": "code",
   "execution_count": 72,
   "metadata": {},
   "outputs": [
    {
     "name": "stdout",
     "output_type": "stream",
     "text": [
      "Glass type is sunglasses\n"
     ]
    }
   ],
   "source": [
    "Ans=np.where(final_pred==0, \"eyeframe\",\n",
    "         (np.where(final_pred==1,\"Non-Power Reading\",\n",
    "         \"sunglasses\"))).item()\n",
    "print(\"Glass type is \"+str(Ans))"
   ]
  },
  {
   "cell_type": "code",
   "execution_count": 73,
   "metadata": {},
   "outputs": [
    {
     "data": {
      "text/plain": [
       "<matplotlib.image.AxesImage at 0x22f8b518988>"
      ]
     },
     "execution_count": 73,
     "metadata": {},
     "output_type": "execute_result"
    },
    {
     "data": {
      "image/png": "[encoded data removed]",
      "text/plain": [
       "<Figure size 432x288 with 1 Axes>"
      ]
     },
     "metadata": {
      "needs_background": "light"
     },
     "output_type": "display_data"
    }
   ],
   "source": [
    "plt.imshow(test_image_for_view)"
   ]
  },
  {
   "cell_type": "code",
   "execution_count": null,
   "metadata": {},
   "outputs": [],
   "source": []
  }
 ],
 "metadata": {
  "kernelspec": {
   "display_name": "Python 3.7 GPU",
   "language": "python",
   "name": "tensorflow"
  },
  "language_info": {
   "codemirror_mode": {
    "name": "ipython",
    "version": 3
   },
   "file_extension": ".py",
   "mimetype": "text/x-python",
   "name": "python",
   "nbconvert_exporter": "python",
   "pygments_lexer": "ipython3",
   "version": "3.7.7"
  }
 },
 "nbformat": 4,
 "nbformat_minor": 4
}
